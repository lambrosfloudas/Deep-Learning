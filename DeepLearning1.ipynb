{
  "cells": [
    {
      "cell_type": "code",
      "execution_count": null,
      "metadata": {
        "colab": {
          "base_uri": "https://localhost:8080/"
        },
        "id": "5z8-RQ-m-sEN",
        "outputId": "1cefe7b0-a1b8-4713-b241-8062c9d3992d"
      },
      "outputs": [
        {
          "name": "stdout",
          "output_type": "stream",
          "text": [
            "Mounted at /content/drive/\n"
          ]
        }
      ],
      "source": [
        "from google.colab import drive\n",
        "drive.mount('/content/drive/')"
      ]
    },
    {
      "cell_type": "code",
      "execution_count": null,
      "metadata": {
        "colab": {
          "base_uri": "https://localhost:8080/"
        },
        "id": "GGKPDZWR_uvM",
        "outputId": "1098b01a-6269-41a7-88c4-d062e57d5285"
      },
      "outputs": [
        {
          "name": "stdout",
          "output_type": "stream",
          "text": [
            "Tensorflow version 2.8.2\n"
          ]
        }
      ],
      "source": [
        "import gc\n",
        "import matplotlib.pyplot as plt\n",
        "import numpy as np\n",
        "import tensorflow as tf\n",
        "%matplotlib inline\n",
        "\n",
        "from tensorflow.keras import backend as K\n",
        "from tensorflow.keras.datasets import fashion_mnist\n",
        "from tensorflow.keras.layers import Input, Conv2D, Dense, Dropout, Flatten, MaxPool2D\n",
        "from tensorflow.keras.models import Model\n",
        "from tensorflow.keras.optimizers import SGD, Adam\n",
        "from tensorflow.keras.utils import to_categorical\n",
        "from tensorflow.random import set_seed\n",
        "from tensorflow.keras.callbacks import EarlyStopping\n",
        "\n",
        "print(\"Tensorflow version \" + tf.__version__)"
      ]
    },
    {
      "cell_type": "code",
      "execution_count": null,
      "metadata": {
        "id": "D-WKwzO8A0wK"
      },
      "outputs": [],
      "source": [
        "from tensorflow import keras"
      ]
    },
    {
      "cell_type": "code",
      "execution_count": null,
      "metadata": {
        "id": "7FqL4RHHBKBQ"
      },
      "outputs": [],
      "source": [
        "import keras"
      ]
    },
    {
      "cell_type": "code",
      "execution_count": null,
      "metadata": {
        "colab": {
          "base_uri": "https://localhost:8080/"
        },
        "id": "9JVFkT2KBiSb",
        "outputId": "2d8e39f9-b6e5-4e03-ec40-2abdd746db81"
      },
      "outputs": [
        {
          "name": "stdout",
          "output_type": "stream",
          "text": [
            "Looking in indexes: https://pypi.org/simple, https://us-python.pkg.dev/colab-wheels/public/simple/\n",
            "Collecting keras-tuner\n",
            "  Downloading keras_tuner-1.1.2-py3-none-any.whl (133 kB)\n",
            "\u001b[K     |████████████████████████████████| 133 kB 7.8 MB/s \n",
            "\u001b[?25hCollecting kt-legacy\n",
            "  Downloading kt_legacy-1.0.4-py3-none-any.whl (9.6 kB)\n",
            "Requirement already satisfied: requests in /usr/local/lib/python3.7/dist-packages (from keras-tuner) (2.23.0)\n",
            "Requirement already satisfied: tensorboard in /usr/local/lib/python3.7/dist-packages (from keras-tuner) (2.8.0)\n",
            "Requirement already satisfied: ipython in /usr/local/lib/python3.7/dist-packages (from keras-tuner) (5.5.0)\n",
            "Requirement already satisfied: packaging in /usr/local/lib/python3.7/dist-packages (from keras-tuner) (21.3)\n",
            "Requirement already satisfied: numpy in /usr/local/lib/python3.7/dist-packages (from keras-tuner) (1.21.6)\n",
            "Requirement already satisfied: traitlets>=4.2 in /usr/local/lib/python3.7/dist-packages (from ipython->keras-tuner) (5.1.1)\n",
            "Requirement already satisfied: pexpect in /usr/local/lib/python3.7/dist-packages (from ipython->keras-tuner) (4.8.0)\n",
            "Requirement already satisfied: setuptools>=18.5 in /usr/local/lib/python3.7/dist-packages (from ipython->keras-tuner) (57.4.0)\n",
            "Requirement already satisfied: pygments in /usr/local/lib/python3.7/dist-packages (from ipython->keras-tuner) (2.6.1)\n",
            "Requirement already satisfied: pickleshare in /usr/local/lib/python3.7/dist-packages (from ipython->keras-tuner) (0.7.5)\n",
            "Requirement already satisfied: prompt-toolkit<2.0.0,>=1.0.4 in /usr/local/lib/python3.7/dist-packages (from ipython->keras-tuner) (1.0.18)\n",
            "Requirement already satisfied: simplegeneric>0.8 in /usr/local/lib/python3.7/dist-packages (from ipython->keras-tuner) (0.8.1)\n",
            "Requirement already satisfied: decorator in /usr/local/lib/python3.7/dist-packages (from ipython->keras-tuner) (4.4.2)\n",
            "Requirement already satisfied: wcwidth in /usr/local/lib/python3.7/dist-packages (from prompt-toolkit<2.0.0,>=1.0.4->ipython->keras-tuner) (0.2.5)\n",
            "Requirement already satisfied: six>=1.9.0 in /usr/local/lib/python3.7/dist-packages (from prompt-toolkit<2.0.0,>=1.0.4->ipython->keras-tuner) (1.15.0)\n",
            "Requirement already satisfied: pyparsing!=3.0.5,>=2.0.2 in /usr/local/lib/python3.7/dist-packages (from packaging->keras-tuner) (3.0.9)\n",
            "Requirement already satisfied: ptyprocess>=0.5 in /usr/local/lib/python3.7/dist-packages (from pexpect->ipython->keras-tuner) (0.7.0)\n",
            "Requirement already satisfied: idna<3,>=2.5 in /usr/local/lib/python3.7/dist-packages (from requests->keras-tuner) (2.10)\n",
            "Requirement already satisfied: certifi>=2017.4.17 in /usr/local/lib/python3.7/dist-packages (from requests->keras-tuner) (2022.5.18.1)\n",
            "Requirement already satisfied: urllib3!=1.25.0,!=1.25.1,<1.26,>=1.21.1 in /usr/local/lib/python3.7/dist-packages (from requests->keras-tuner) (1.24.3)\n",
            "Requirement already satisfied: chardet<4,>=3.0.2 in /usr/local/lib/python3.7/dist-packages (from requests->keras-tuner) (3.0.4)\n",
            "Requirement already satisfied: grpcio>=1.24.3 in /usr/local/lib/python3.7/dist-packages (from tensorboard->keras-tuner) (1.46.3)\n",
            "Requirement already satisfied: markdown>=2.6.8 in /usr/local/lib/python3.7/dist-packages (from tensorboard->keras-tuner) (3.3.7)\n",
            "Requirement already satisfied: werkzeug>=0.11.15 in /usr/local/lib/python3.7/dist-packages (from tensorboard->keras-tuner) (1.0.1)\n",
            "Requirement already satisfied: google-auth-oauthlib<0.5,>=0.4.1 in /usr/local/lib/python3.7/dist-packages (from tensorboard->keras-tuner) (0.4.6)\n",
            "Requirement already satisfied: tensorboard-data-server<0.7.0,>=0.6.0 in /usr/local/lib/python3.7/dist-packages (from tensorboard->keras-tuner) (0.6.1)\n",
            "Requirement already satisfied: protobuf>=3.6.0 in /usr/local/lib/python3.7/dist-packages (from tensorboard->keras-tuner) (3.17.3)\n",
            "Requirement already satisfied: wheel>=0.26 in /usr/local/lib/python3.7/dist-packages (from tensorboard->keras-tuner) (0.37.1)\n",
            "Requirement already satisfied: absl-py>=0.4 in /usr/local/lib/python3.7/dist-packages (from tensorboard->keras-tuner) (1.0.0)\n",
            "Requirement already satisfied: google-auth<3,>=1.6.3 in /usr/local/lib/python3.7/dist-packages (from tensorboard->keras-tuner) (1.35.0)\n",
            "Requirement already satisfied: tensorboard-plugin-wit>=1.6.0 in /usr/local/lib/python3.7/dist-packages (from tensorboard->keras-tuner) (1.8.1)\n",
            "Requirement already satisfied: pyasn1-modules>=0.2.1 in /usr/local/lib/python3.7/dist-packages (from google-auth<3,>=1.6.3->tensorboard->keras-tuner) (0.2.8)\n",
            "Requirement already satisfied: rsa<5,>=3.1.4 in /usr/local/lib/python3.7/dist-packages (from google-auth<3,>=1.6.3->tensorboard->keras-tuner) (4.8)\n",
            "Requirement already satisfied: cachetools<5.0,>=2.0.0 in /usr/local/lib/python3.7/dist-packages (from google-auth<3,>=1.6.3->tensorboard->keras-tuner) (4.2.4)\n",
            "Requirement already satisfied: requests-oauthlib>=0.7.0 in /usr/local/lib/python3.7/dist-packages (from google-auth-oauthlib<0.5,>=0.4.1->tensorboard->keras-tuner) (1.3.1)\n",
            "Requirement already satisfied: importlib-metadata>=4.4 in /usr/local/lib/python3.7/dist-packages (from markdown>=2.6.8->tensorboard->keras-tuner) (4.11.4)\n",
            "Requirement already satisfied: zipp>=0.5 in /usr/local/lib/python3.7/dist-packages (from importlib-metadata>=4.4->markdown>=2.6.8->tensorboard->keras-tuner) (3.8.0)\n",
            "Requirement already satisfied: typing-extensions>=3.6.4 in /usr/local/lib/python3.7/dist-packages (from importlib-metadata>=4.4->markdown>=2.6.8->tensorboard->keras-tuner) (4.2.0)\n",
            "Requirement already satisfied: pyasn1<0.5.0,>=0.4.6 in /usr/local/lib/python3.7/dist-packages (from pyasn1-modules>=0.2.1->google-auth<3,>=1.6.3->tensorboard->keras-tuner) (0.4.8)\n",
            "Requirement already satisfied: oauthlib>=3.0.0 in /usr/local/lib/python3.7/dist-packages (from requests-oauthlib>=0.7.0->google-auth-oauthlib<0.5,>=0.4.1->tensorboard->keras-tuner) (3.2.0)\n",
            "Installing collected packages: kt-legacy, keras-tuner\n",
            "Successfully installed keras-tuner-1.1.2 kt-legacy-1.0.4\n"
          ]
        }
      ],
      "source": [
        "pip install -U keras-tuner"
      ]
    },
    {
      "cell_type": "code",
      "execution_count": null,
      "metadata": {
        "colab": {
          "base_uri": "https://localhost:8080/"
        },
        "id": "Vu5X29A1A3UL",
        "outputId": "8416bd08-75d4-4074-8364-14a01aac2005"
      },
      "outputs": [
        {
          "name": "stderr",
          "output_type": "stream",
          "text": [
            "/usr/local/lib/python3.7/dist-packages/ipykernel_launcher.py:1: DeprecationWarning: `import kerastuner` is deprecated, please use `import keras_tuner`.\n",
            "  \"\"\"Entry point for launching an IPython kernel.\n"
          ]
        }
      ],
      "source": [
        "import kerastuner as kt"
      ]
    },
    {
      "cell_type": "code",
      "execution_count": null,
      "metadata": {
        "colab": {
          "base_uri": "https://localhost:8080/"
        },
        "id": "MuLYtwqd_39c",
        "outputId": "9998852b-d030-461b-a6c3-0da25de1d5b0"
      },
      "outputs": [
        {
          "name": "stdout",
          "output_type": "stream",
          "text": [
            "Downloading data from https://storage.googleapis.com/tensorflow/tf-keras-datasets/train-labels-idx1-ubyte.gz\n",
            "32768/29515 [=================================] - 0s 0us/step\n",
            "40960/29515 [=========================================] - 0s 0us/step\n",
            "Downloading data from https://storage.googleapis.com/tensorflow/tf-keras-datasets/train-images-idx3-ubyte.gz\n",
            "26427392/26421880 [==============================] - 0s 0us/step\n",
            "26435584/26421880 [==============================] - 0s 0us/step\n",
            "Downloading data from https://storage.googleapis.com/tensorflow/tf-keras-datasets/t10k-labels-idx1-ubyte.gz\n",
            "16384/5148 [===============================================================================================] - 0s 0us/step\n",
            "Downloading data from https://storage.googleapis.com/tensorflow/tf-keras-datasets/t10k-images-idx3-ubyte.gz\n",
            "4423680/4422102 [==============================] - 0s 0us/step\n",
            "4431872/4422102 [==============================] - 0s 0us/step\n"
          ]
        }
      ],
      "source": [
        "classes = 10 \n",
        "\n",
        "(X_train, y_train), (X_test, y_test) = fashion_mnist.load_data()\n",
        "X_train = X_train.astype('float32')\n",
        "X_test = X_test.astype('float32')\n",
        "X_train /= 255\n",
        "X_test /= 255\n",
        "Y_train = to_categorical(y_train, classes)\n",
        "Y_test = to_categorical(y_test, classes)"
      ]
    },
    {
      "cell_type": "code",
      "execution_count": null,
      "metadata": {
        "colab": {
          "base_uri": "https://localhost:8080/"
        },
        "id": "2FeR8SvmAKp5",
        "outputId": "36b5e11c-8343-4b9a-f5db-1a162a16f0c2"
      },
      "outputs": [
        {
          "name": "stdout",
          "output_type": "stream",
          "text": [
            "Restoring model weights from the end of the best epoch: 17.\n",
            "Epoch 27: early stopping\n",
            "Model: \"model\"\n",
            "_________________________________________________________________\n",
            " Layer (type)                Output Shape              Param #   \n",
            "=================================================================\n",
            " Input (InputLayer)          [(None, 28, 28)]          0         \n",
            "                                                                 \n",
            " Flatten_Image (Flatten)     (None, 784)               0         \n",
            "                                                                 \n",
            " Output (Dense)              (None, 10)                7850      \n",
            "                                                                 \n",
            "=================================================================\n",
            "Total params: 7,850\n",
            "Trainable params: 7,850\n",
            "Non-trainable params: 0\n",
            "_________________________________________________________________\n"
          ]
        }
      ],
      "source": [
        "epochs=100\n",
        "batch_size=128\n",
        "hidden_activation='relu'\n",
        "output_activation='softmax'\n",
        "optimizer=Adam()\n",
        "early_stopping = EarlyStopping(monitor='val_accuracy', patience=10, verbose=1, restore_best_weights=True)\n",
        "verbose=0\n",
        "\n",
        "np.random.seed(1924) \n",
        "set_seed(21) \n",
        "    \n",
        "input = Input(shape=(28,28), name='Input')\n",
        "input_flatten = Flatten(name='Flatten_Image')(input)\n",
        "output = Dense(units=classes, kernel_initializer='glorot_uniform', activation=output_activation, name='Output')(input_flatten)\n",
        "\n",
        "baseline_model = Model(inputs=input, outputs=output)\n",
        "baseline_model.compile(optimizer=optimizer, loss='categorical_crossentropy', metrics=['accuracy'])\n",
        "baseline_hs = baseline_model.fit(x=X_train, y=Y_train, validation_split=0.1, epochs=epochs, verbose=verbose, callbacks=[early_stopping], batch_size=batch_size)\n",
        "\n",
        "baseline_model.summary() "
      ]
    },
    {
      "cell_type": "code",
      "execution_count": null,
      "metadata": {
        "id": "pvxrUBg2TYQt"
      },
      "outputs": [],
      "source": []
    },
    {
      "cell_type": "code",
      "execution_count": null,
      "metadata": {
        "id": "drPVvfFLAKr4"
      },
      "outputs": [],
      "source": [
        "def plot_history(hs, model, x_train, y_train, x_test, y_test):\n",
        "  score_tr = model.evaluate(x_train, y_train, verbose=0)\n",
        "  print('Train accuracy:', round(score_tr[1],4))\n",
        "  score_ts = model.evaluate(x_test, y_test, verbose=0)\n",
        "  print('Test accuracy:', round(score_ts[1],4))\n",
        "  \n",
        "  print()\n",
        "  plt.rcParams['figure.figsize'] = [8,5]\n",
        "  plt.rcParams['font.size'] = 14\n",
        "  plt.clf()\n",
        "  plt.plot(hs.history['loss'])\n",
        "  plt.plot(hs.history['val_loss'])\n",
        "  plt.title('Loss vs Epochs')\n",
        "  plt.xlabel('Epochs')\n",
        "  plt.ylabel('Loss')\n",
        "  plt.legend(['Train', 'Validation'], loc='upper right')\n",
        "  plt.show()"
      ]
    },
    {
      "cell_type": "code",
      "execution_count": null,
      "metadata": {
        "id": "3ECU6EvgTwv7"
      },
      "outputs": [],
      "source": [
        "plot_history(baseline_hs, baseline_model, X_train, Y_train, X_test, Y_test)"
      ]
    },
    {
      "cell_type": "code",
      "execution_count": null,
      "metadata": {
        "id": "Otm43hCBAKuJ"
      },
      "outputs": [],
      "source": []
    },
    {
      "cell_type": "code",
      "execution_count": null,
      "metadata": {
        "id": "weMjZHWsAKwT"
      },
      "outputs": [],
      "source": [
        "b_model = keras.Sequential()\n",
        "b_model.add(keras.layers.Flatten(input_shape=(28,28)))\n",
        "b_model.add(keras.layers.Dense(units=512, activation='relu', name='dense_1'))\n",
        "b_model.add(keras.layers.Dropout(0.2))\n",
        "b_model.add(keras.layers.Dense(10, activation='softmax'))"
      ]
    },
    {
      "cell_type": "code",
      "execution_count": null,
      "metadata": {
        "colab": {
          "base_uri": "https://localhost:8080/"
        },
        "id": "laJa7Ec1AKyM",
        "outputId": "22d81f17-d111-448a-8ebd-98cdaf6c4858"
      },
      "outputs": [
        {
          "name": "stderr",
          "output_type": "stream",
          "text": [
            "/usr/local/lib/python3.7/dist-packages/keras/optimizer_v2/adam.py:105: UserWarning: The `lr` argument is deprecated, use `learning_rate` instead.\n",
            "  super(Adam, self).__init__(name, **kwargs)\n"
          ]
        }
      ],
      "source": [
        "b_model.compile(optimizer=Adam(lr=0.001),\n",
        "              loss='categorical_crossentropy',\n",
        "              metrics=['accuracy'])\n"
      ]
    },
    {
      "cell_type": "code",
      "execution_count": null,
      "metadata": {
        "colab": {
          "base_uri": "https://localhost:8080/"
        },
        "id": "cEWrlgNabEJq",
        "outputId": "3b8ce91f-54e8-4de3-dd7f-6fc6008f903e"
      },
      "outputs": [
        {
          "name": "stdout",
          "output_type": "stream",
          "text": [
            "Model: \"sequential\"\n",
            "_________________________________________________________________\n",
            " Layer (type)                Output Shape              Param #   \n",
            "=================================================================\n",
            " flatten (Flatten)           (None, 784)               0         \n",
            "                                                                 \n",
            " dense_1 (Dense)             (None, 512)               401920    \n",
            "                                                                 \n",
            " dropout (Dropout)           (None, 512)               0         \n",
            "                                                                 \n",
            " dense (Dense)               (None, 10)                5130      \n",
            "                                                                 \n",
            "=================================================================\n",
            "Total params: 407,050\n",
            "Trainable params: 407,050\n",
            "Non-trainable params: 0\n",
            "_________________________________________________________________\n"
          ]
        }
      ],
      "source": [
        "b_model.summary()"
      ]
    },
    {
      "cell_type": "code",
      "execution_count": null,
      "metadata": {
        "colab": {
          "base_uri": "https://localhost:8080/"
        },
        "id": "LwfjIKXmZbAK",
        "outputId": "dd089121-4fe9-45b5-e136-19199493d5dc"
      },
      "outputs": [
        {
          "name": "stdout",
          "output_type": "stream",
          "text": [
            "Restoring model weights from the end of the best epoch: 52.\n",
            "Epoch 62: early stopping\n"
          ]
        }
      ],
      "source": [
        "b_model_hs = b_model.fit(x=X_train, y=Y_train, validation_split=0.1, epochs=epochs, verbose=verbose, callbacks=[early_stopping], batch_size=batch_size)"
      ]
    },
    {
      "cell_type": "code",
      "execution_count": null,
      "metadata": {
        "colab": {
          "base_uri": "https://localhost:8080/",
          "height": 417
        },
        "id": "Tiow2bLmZvci",
        "outputId": "d511fc81-94c1-46d3-8c7d-fa373573b710"
      },
      "outputs": [
        {
          "name": "stdout",
          "output_type": "stream",
          "text": [
            "Train accuracy: 0.9624\n",
            "Test accuracy: 0.8956\n",
            "\n"
          ]
        },
        {
          "data": {
            "image/png": "[encoded data removed]",
            "text/plain": [
              "<Figure size 576x360 with 1 Axes>"
            ]
          },
          "metadata": {},
          "output_type": "display_data"
        }
      ],
      "source": [
        "plot_history(b_model_hs, b_model, X_train, Y_train, X_test, Y_test)"
      ]
    },
    {
      "cell_type": "code",
      "execution_count": null,
      "metadata": {
        "id": "wZo-2XPpAK0e"
      },
      "outputs": [],
      "source": [
        "def build_model(hp):\n",
        "    model = keras.Sequential()\n",
        "    model.add(keras.layers.Flatten(input_shape=(28,28)))\n",
        "    for i in range(hp.Int(\"layers\", 2, 5)):\n",
        "        model.add(\n",
        "            Dense(\n",
        "                units=hp.Int(\"units_\" + str(i), min_value=256, max_value=512, step=128),\n",
        "                activation=hp.Choice('activation', ['relu', 'tanh']))\n",
        "            )\n",
        "        \n",
        "        \n",
        "        model.add(Dropout(hp.Float(\"dropout_\" + str(i), 0, 0.3, step=0.1)))\n",
        "    \n",
        "    # Add output layer.\n",
        "    model.add(Dense(units=10, activation=\"softmax\"))\n",
        "    model.compile(optimizer=Adam(learning_rate=hp.Choice(\"learning_rate\", values=[1e-2, 1e-4])),\n",
        "                  loss='categorical_crossentropy',\n",
        "                  metrics=[\"accuracy\"])\n",
        "    \n",
        "    return model"
      ]
    },
    {
      "cell_type": "code",
      "execution_count": null,
      "metadata": {
        "id": "3_DemmUYAK2k"
      },
      "outputs": [],
      "source": [
        "tuner_hyperband = kt.Hyperband(build_model,\n",
        "                     objective=\"val_accuracy\",\n",
        "                     max_epochs=10,\n",
        "                     overwrite=True,\n",
        "                     directory=\"kt_dir\",\n",
        "                     project_name=\"kt_hyperband\")"
      ]
    },
    {
      "cell_type": "code",
      "execution_count": null,
      "metadata": {
        "colab": {
          "base_uri": "https://localhost:8080/"
        },
        "id": "MetnbbXH5tSY",
        "outputId": "7fc23fab-9648-4411-f37a-4c8ea1e96d72"
      },
      "outputs": [
        {
          "name": "stdout",
          "output_type": "stream",
          "text": [
            "Search space summary\n",
            "Default search space size: 7\n",
            "layers (Int)\n",
            "{'default': None, 'conditions': [], 'min_value': 2, 'max_value': 5, 'step': 1, 'sampling': None}\n",
            "units_0 (Int)\n",
            "{'default': None, 'conditions': [], 'min_value': 256, 'max_value': 512, 'step': 128, 'sampling': None}\n",
            "activation (Choice)\n",
            "{'default': 'relu', 'conditions': [], 'values': ['relu', 'tanh'], 'ordered': False}\n",
            "dropout_0 (Float)\n",
            "{'default': 0.0, 'conditions': [], 'min_value': 0.0, 'max_value': 0.3, 'step': 0.1, 'sampling': None}\n",
            "units_1 (Int)\n",
            "{'default': None, 'conditions': [], 'min_value': 256, 'max_value': 512, 'step': 128, 'sampling': None}\n",
            "dropout_1 (Float)\n",
            "{'default': 0.0, 'conditions': [], 'min_value': 0.0, 'max_value': 0.3, 'step': 0.1, 'sampling': None}\n",
            "learning_rate (Choice)\n",
            "{'default': 0.01, 'conditions': [], 'values': [0.01, 0.0001], 'ordered': True}\n"
          ]
        }
      ],
      "source": [
        "tuner_hyperband.search_space_summary()"
      ]
    },
    {
      "cell_type": "code",
      "execution_count": null,
      "metadata": {
        "colab": {
          "base_uri": "https://localhost:8080/"
        },
        "id": "PSdLwwyY5wCV",
        "outputId": "caffde80-b697-4e0e-8e37-ccfc441a8f70"
      },
      "outputs": [
        {
          "name": "stdout",
          "output_type": "stream",
          "text": [
            "Trial 30 Complete [00h 01m 22s]\n",
            "val_accuracy: 0.10316666960716248\n",
            "\n",
            "Best val_accuracy So Far: 0.8924999833106995\n",
            "Total elapsed time: 00h 16m 22s\n",
            "INFO:tensorflow:Oracle triggered exit\n"
          ]
        }
      ],
      "source": [
        "early_stopping = EarlyStopping(monitor='val_accuracy', patience=5, restore_best_weights=True)\n",
        "\n",
        "tuner_hyperband.search(X_train, Y_train, epochs=20, validation_split=0.1, callbacks=[early_stopping])"
      ]
    },
    {
      "cell_type": "code",
      "execution_count": null,
      "metadata": {
        "colab": {
          "base_uri": "https://localhost:8080/"
        },
        "id": "sD5DxTfG50YB",
        "outputId": "7e52de32-093b-4b25-cf16-2ef947cc6279"
      },
      "outputs": [
        {
          "name": "stdout",
          "output_type": "stream",
          "text": [
            "Epoch 1/100\n",
            "1688/1688 [==============================] - 7s 4ms/step - loss: 0.7090 - accuracy: 0.7449 - val_loss: 0.4411 - val_accuracy: 0.8395\n",
            "Epoch 2/100\n",
            "1688/1688 [==============================] - 7s 4ms/step - loss: 0.4409 - accuracy: 0.8434 - val_loss: 0.3890 - val_accuracy: 0.8590\n",
            "Epoch 3/100\n",
            "1688/1688 [==============================] - 7s 4ms/step - loss: 0.3894 - accuracy: 0.8602 - val_loss: 0.3549 - val_accuracy: 0.8690\n",
            "Epoch 4/100\n",
            "1688/1688 [==============================] - 6s 4ms/step - loss: 0.3569 - accuracy: 0.8711 - val_loss: 0.3649 - val_accuracy: 0.8727\n",
            "Epoch 5/100\n",
            "1688/1688 [==============================] - 6s 4ms/step - loss: 0.3363 - accuracy: 0.8776 - val_loss: 0.3469 - val_accuracy: 0.8762\n",
            "Epoch 6/100\n",
            "1688/1688 [==============================] - 6s 4ms/step - loss: 0.3203 - accuracy: 0.8837 - val_loss: 0.3326 - val_accuracy: 0.8813\n",
            "Epoch 7/100\n",
            "1688/1688 [==============================] - 6s 4ms/step - loss: 0.3066 - accuracy: 0.8885 - val_loss: 0.3371 - val_accuracy: 0.8825\n",
            "Epoch 8/100\n",
            "1688/1688 [==============================] - 6s 4ms/step - loss: 0.2969 - accuracy: 0.8902 - val_loss: 0.3185 - val_accuracy: 0.8875\n",
            "Epoch 9/100\n",
            "1688/1688 [==============================] - 6s 4ms/step - loss: 0.2853 - accuracy: 0.8971 - val_loss: 0.3200 - val_accuracy: 0.8860\n",
            "Epoch 10/100\n",
            "1688/1688 [==============================] - 7s 4ms/step - loss: 0.2748 - accuracy: 0.8998 - val_loss: 0.3196 - val_accuracy: 0.8885\n",
            "Epoch 11/100\n",
            "1688/1688 [==============================] - 6s 4ms/step - loss: 0.2675 - accuracy: 0.9017 - val_loss: 0.3206 - val_accuracy: 0.8862\n",
            "Epoch 12/100\n",
            "1688/1688 [==============================] - 6s 4ms/step - loss: 0.2573 - accuracy: 0.9042 - val_loss: 0.2948 - val_accuracy: 0.8913\n",
            "Epoch 13/100\n",
            "1688/1688 [==============================] - 6s 4ms/step - loss: 0.2506 - accuracy: 0.9064 - val_loss: 0.3062 - val_accuracy: 0.8895\n",
            "Epoch 14/100\n",
            "1688/1688 [==============================] - 6s 4ms/step - loss: 0.2455 - accuracy: 0.9097 - val_loss: 0.3120 - val_accuracy: 0.8880\n",
            "Epoch 15/100\n",
            "1688/1688 [==============================] - 6s 4ms/step - loss: 0.2412 - accuracy: 0.9101 - val_loss: 0.3151 - val_accuracy: 0.8882\n",
            "Epoch 16/100\n",
            "1688/1688 [==============================] - 6s 4ms/step - loss: 0.2332 - accuracy: 0.9146 - val_loss: 0.3059 - val_accuracy: 0.8917\n",
            "Epoch 17/100\n",
            "1688/1688 [==============================] - 6s 4ms/step - loss: 0.2276 - accuracy: 0.9159 - val_loss: 0.3102 - val_accuracy: 0.8950\n",
            "Epoch 18/100\n",
            "1688/1688 [==============================] - 6s 4ms/step - loss: 0.2220 - accuracy: 0.9181 - val_loss: 0.3266 - val_accuracy: 0.8867\n",
            "Epoch 19/100\n",
            "1688/1688 [==============================] - 6s 4ms/step - loss: 0.2192 - accuracy: 0.9184 - val_loss: 0.3149 - val_accuracy: 0.8908\n",
            "Epoch 20/100\n",
            "1688/1688 [==============================] - 6s 4ms/step - loss: 0.2127 - accuracy: 0.9210 - val_loss: 0.3101 - val_accuracy: 0.8963\n",
            "Epoch 21/100\n",
            "1688/1688 [==============================] - 6s 4ms/step - loss: 0.2077 - accuracy: 0.9226 - val_loss: 0.3179 - val_accuracy: 0.8972\n",
            "Epoch 22/100\n",
            "1688/1688 [==============================] - 6s 4ms/step - loss: 0.2025 - accuracy: 0.9240 - val_loss: 0.3052 - val_accuracy: 0.8962\n",
            "Epoch 23/100\n",
            "1688/1688 [==============================] - 6s 4ms/step - loss: 0.1964 - accuracy: 0.9265 - val_loss: 0.3140 - val_accuracy: 0.8925\n",
            "Epoch 24/100\n",
            "1688/1688 [==============================] - 6s 4ms/step - loss: 0.1950 - accuracy: 0.9253 - val_loss: 0.3211 - val_accuracy: 0.8945\n",
            "Epoch 25/100\n",
            "1688/1688 [==============================] - 6s 4ms/step - loss: 0.1910 - accuracy: 0.9279 - val_loss: 0.3172 - val_accuracy: 0.8970\n",
            "Epoch 26/100\n",
            "1688/1688 [==============================] - 6s 4ms/step - loss: 0.1866 - accuracy: 0.9305 - val_loss: 0.3214 - val_accuracy: 0.9000\n",
            "Epoch 27/100\n",
            "1688/1688 [==============================] - 6s 4ms/step - loss: 0.1840 - accuracy: 0.9301 - val_loss: 0.3249 - val_accuracy: 0.8948\n",
            "Epoch 28/100\n",
            "1688/1688 [==============================] - 6s 4ms/step - loss: 0.1803 - accuracy: 0.9317 - val_loss: 0.3216 - val_accuracy: 0.8938\n",
            "Epoch 29/100\n",
            "1688/1688 [==============================] - 6s 4ms/step - loss: 0.1774 - accuracy: 0.9326 - val_loss: 0.3190 - val_accuracy: 0.8942\n",
            "Epoch 30/100\n",
            "1688/1688 [==============================] - 6s 4ms/step - loss: 0.1714 - accuracy: 0.9356 - val_loss: 0.3112 - val_accuracy: 0.8958\n",
            "Epoch 31/100\n",
            "1688/1688 [==============================] - 6s 4ms/step - loss: 0.1690 - accuracy: 0.9365 - val_loss: 0.3192 - val_accuracy: 0.8968\n",
            "Epoch 32/100\n",
            "1688/1688 [==============================] - 7s 4ms/step - loss: 0.1681 - accuracy: 0.9364 - val_loss: 0.3262 - val_accuracy: 0.8962\n",
            "Epoch 33/100\n",
            "1688/1688 [==============================] - 6s 4ms/step - loss: 0.1632 - accuracy: 0.9391 - val_loss: 0.3140 - val_accuracy: 0.9010\n",
            "Epoch 34/100\n",
            "1688/1688 [==============================] - 6s 4ms/step - loss: 0.1615 - accuracy: 0.9384 - val_loss: 0.3339 - val_accuracy: 0.8965\n",
            "Epoch 35/100\n",
            "1688/1688 [==============================] - 6s 4ms/step - loss: 0.1571 - accuracy: 0.9404 - val_loss: 0.3616 - val_accuracy: 0.8975\n",
            "Epoch 36/100\n",
            "1688/1688 [==============================] - 6s 4ms/step - loss: 0.1528 - accuracy: 0.9416 - val_loss: 0.3354 - val_accuracy: 0.8958\n",
            "Epoch 37/100\n",
            "1688/1688 [==============================] - 6s 4ms/step - loss: 0.1507 - accuracy: 0.9432 - val_loss: 0.3433 - val_accuracy: 0.8968\n",
            "Epoch 38/100\n",
            "1688/1688 [==============================] - 7s 4ms/step - loss: 0.1491 - accuracy: 0.9438 - val_loss: 0.3475 - val_accuracy: 0.8935\n",
            "Epoch 39/100\n",
            "1688/1688 [==============================] - 6s 4ms/step - loss: 0.1478 - accuracy: 0.9437 - val_loss: 0.3227 - val_accuracy: 0.8982\n",
            "Epoch 40/100\n",
            "1688/1688 [==============================] - 6s 4ms/step - loss: 0.1432 - accuracy: 0.9455 - val_loss: 0.3535 - val_accuracy: 0.8950\n",
            "Epoch 41/100\n",
            "1688/1688 [==============================] - 7s 4ms/step - loss: 0.1422 - accuracy: 0.9474 - val_loss: 0.3500 - val_accuracy: 0.8965\n",
            "Epoch 42/100\n",
            "1688/1688 [==============================] - 7s 4ms/step - loss: 0.1377 - accuracy: 0.9484 - val_loss: 0.3438 - val_accuracy: 0.8958\n",
            "Epoch 43/100\n",
            "1684/1688 [============================>.] - ETA: 0s - loss: 0.1393 - accuracy: 0.9474Restoring model weights from the end of the best epoch: 33.\n",
            "1688/1688 [==============================] - 7s 4ms/step - loss: 0.1393 - accuracy: 0.9474 - val_loss: 0.3472 - val_accuracy: 0.8987\n",
            "Epoch 43: early stopping\n"
          ]
        }
      ],
      "source": [
        "early_stopping = EarlyStopping(monitor='val_accuracy', patience=10, verbose=1, restore_best_weights=True)\n",
        "best_hps=tuner_hyperband.get_best_hyperparameters()[0]\n",
        "\n",
        "h_model_hyper = tuner_hyperband.hypermodel.build(best_hps)\n",
        "\n",
        "hs_h_model_hyper = h_model_hyper.fit(X_train, Y_train, epochs=epochs, validation_split=0.1, callbacks=[early_stopping])"
      ]
    },
    {
      "cell_type": "code",
      "execution_count": null,
      "metadata": {
        "colab": {
          "base_uri": "https://localhost:8080/",
          "height": 417
        },
        "id": "UG1UZA6k58ef",
        "outputId": "2aa16fc4-d16f-4896-dd20-56fea98a939d"
      },
      "outputs": [
        {
          "name": "stdout",
          "output_type": "stream",
          "text": [
            "Train accuracy: 0.9497\n",
            "Test accuracy: 0.8938\n",
            "\n"
          ]
        },
        {
          "data": {
            "image/png": "[encoded data removed]",
            "text/plain": [
              "<Figure size 576x360 with 1 Axes>"
            ]
          },
          "metadata": {},
          "output_type": "display_data"
        }
      ],
      "source": [
        "plot_history(hs_h_model_hyper, h_model_hyper, X_train, Y_train, X_test, Y_test)"
      ]
    },
    {
      "cell_type": "code",
      "execution_count": null,
      "metadata": {
        "id": "5GQnsf0v802A"
      },
      "outputs": [],
      "source": [
        "tuner = kt.BayesianOptimization(build_model,\n",
        "                     objective=\"val_accuracy\",\n",
        "                     max_trials=10,\n",
        "                     overwrite=True)"
      ]
    },
    {
      "cell_type": "code",
      "execution_count": null,
      "metadata": {
        "colab": {
          "base_uri": "https://localhost:8080/"
        },
        "id": "QR1uqfzOCOb2",
        "outputId": "2abb6f47-c7d7-4d48-f111-614a6f0d0810"
      },
      "outputs": [
        {
          "name": "stdout",
          "output_type": "stream",
          "text": [
            "Search space summary\n",
            "Default search space size: 7\n",
            "layers (Int)\n",
            "{'default': None, 'conditions': [], 'min_value': 2, 'max_value': 5, 'step': 1, 'sampling': None}\n",
            "units_0 (Int)\n",
            "{'default': None, 'conditions': [], 'min_value': 256, 'max_value': 512, 'step': 128, 'sampling': None}\n",
            "activation (Choice)\n",
            "{'default': 'relu', 'conditions': [], 'values': ['relu', 'tanh'], 'ordered': False}\n",
            "dropout_0 (Float)\n",
            "{'default': 0.0, 'conditions': [], 'min_value': 0.0, 'max_value': 0.3, 'step': 0.1, 'sampling': None}\n",
            "units_1 (Int)\n",
            "{'default': None, 'conditions': [], 'min_value': 256, 'max_value': 512, 'step': 128, 'sampling': None}\n",
            "dropout_1 (Float)\n",
            "{'default': 0.0, 'conditions': [], 'min_value': 0.0, 'max_value': 0.3, 'step': 0.1, 'sampling': None}\n",
            "learning_rate (Choice)\n",
            "{'default': 0.01, 'conditions': [], 'values': [0.01, 0.0001], 'ordered': True}\n"
          ]
        }
      ],
      "source": [
        "tuner.search_space_summary()"
      ]
    },
    {
      "cell_type": "code",
      "execution_count": null,
      "metadata": {
        "colab": {
          "base_uri": "https://localhost:8080/"
        },
        "id": "eU8-6FMyCOdu",
        "outputId": "9b922ce7-d30b-4a01-d52a-ff6086b043bc"
      },
      "outputs": [
        {
          "name": "stdout",
          "output_type": "stream",
          "text": [
            "Trial 10 Complete [00h 02m 07s]\n",
            "val_accuracy: 0.8993333578109741\n",
            "\n",
            "Best val_accuracy So Far: 0.8995000123977661\n",
            "Total elapsed time: 00h 21m 15s\n",
            "INFO:tensorflow:Oracle triggered exit\n"
          ]
        }
      ],
      "source": [
        "early_stopping = EarlyStopping(monitor='val_accuracy', patience=5, restore_best_weights=True)\n",
        "\n",
        "tuner.search(X_train, Y_train, epochs=20, validation_split=0.1, callbacks=[early_stopping])"
      ]
    },
    {
      "cell_type": "code",
      "execution_count": null,
      "metadata": {
        "colab": {
          "base_uri": "https://localhost:8080/"
        },
        "id": "-qVNS6JNCOfp",
        "outputId": "96b9e0eb-7102-463b-8607-bc3d1da66152"
      },
      "outputs": [
        {
          "name": "stdout",
          "output_type": "stream",
          "text": [
            "Epoch 1/100\n",
            "1688/1688 [==============================] - 7s 4ms/step - loss: 0.6372 - accuracy: 0.7706 - val_loss: 0.4143 - val_accuracy: 0.8460\n",
            "Epoch 2/100\n",
            "1688/1688 [==============================] - 6s 3ms/step - loss: 0.4169 - accuracy: 0.8489 - val_loss: 0.3773 - val_accuracy: 0.8603\n",
            "Epoch 3/100\n",
            "1688/1688 [==============================] - 6s 4ms/step - loss: 0.3743 - accuracy: 0.8625 - val_loss: 0.3556 - val_accuracy: 0.8725\n",
            "Epoch 4/100\n",
            "1688/1688 [==============================] - 6s 4ms/step - loss: 0.3497 - accuracy: 0.8705 - val_loss: 0.3600 - val_accuracy: 0.8725\n",
            "Epoch 5/100\n",
            "1688/1688 [==============================] - 6s 4ms/step - loss: 0.3288 - accuracy: 0.8801 - val_loss: 0.3370 - val_accuracy: 0.8788\n",
            "Epoch 6/100\n",
            "1688/1688 [==============================] - 6s 4ms/step - loss: 0.3163 - accuracy: 0.8830 - val_loss: 0.3262 - val_accuracy: 0.8830\n",
            "Epoch 7/100\n",
            "1688/1688 [==============================] - 6s 4ms/step - loss: 0.3034 - accuracy: 0.8871 - val_loss: 0.3317 - val_accuracy: 0.8842\n",
            "Epoch 8/100\n",
            "1688/1688 [==============================] - 6s 4ms/step - loss: 0.2914 - accuracy: 0.8915 - val_loss: 0.3084 - val_accuracy: 0.8872\n",
            "Epoch 9/100\n",
            "1688/1688 [==============================] - 6s 4ms/step - loss: 0.2803 - accuracy: 0.8951 - val_loss: 0.3026 - val_accuracy: 0.8893\n",
            "Epoch 10/100\n",
            "1688/1688 [==============================] - 6s 4ms/step - loss: 0.2720 - accuracy: 0.8978 - val_loss: 0.3001 - val_accuracy: 0.8913\n",
            "Epoch 11/100\n",
            "1688/1688 [==============================] - 6s 3ms/step - loss: 0.2646 - accuracy: 0.9007 - val_loss: 0.3070 - val_accuracy: 0.8872\n",
            "Epoch 12/100\n",
            "1688/1688 [==============================] - 6s 3ms/step - loss: 0.2562 - accuracy: 0.9042 - val_loss: 0.3005 - val_accuracy: 0.8900\n",
            "Epoch 13/100\n",
            "1688/1688 [==============================] - 6s 3ms/step - loss: 0.2501 - accuracy: 0.9056 - val_loss: 0.3041 - val_accuracy: 0.8917\n",
            "Epoch 14/100\n",
            "1688/1688 [==============================] - 6s 3ms/step - loss: 0.2441 - accuracy: 0.9090 - val_loss: 0.3045 - val_accuracy: 0.8907\n",
            "Epoch 15/100\n",
            "1688/1688 [==============================] - 6s 4ms/step - loss: 0.2363 - accuracy: 0.9113 - val_loss: 0.3099 - val_accuracy: 0.8868\n",
            "Epoch 16/100\n",
            "1688/1688 [==============================] - 7s 4ms/step - loss: 0.2323 - accuracy: 0.9127 - val_loss: 0.3007 - val_accuracy: 0.8927\n",
            "Epoch 17/100\n",
            "1688/1688 [==============================] - 6s 3ms/step - loss: 0.2288 - accuracy: 0.9136 - val_loss: 0.3015 - val_accuracy: 0.8923\n",
            "Epoch 18/100\n",
            "1688/1688 [==============================] - 6s 4ms/step - loss: 0.2205 - accuracy: 0.9163 - val_loss: 0.3091 - val_accuracy: 0.8907\n",
            "Epoch 19/100\n",
            "1688/1688 [==============================] - 6s 3ms/step - loss: 0.2143 - accuracy: 0.9192 - val_loss: 0.3131 - val_accuracy: 0.8920\n",
            "Epoch 20/100\n",
            "1688/1688 [==============================] - 6s 4ms/step - loss: 0.2117 - accuracy: 0.9199 - val_loss: 0.2992 - val_accuracy: 0.8958\n",
            "Epoch 21/100\n",
            "1688/1688 [==============================] - 6s 3ms/step - loss: 0.2075 - accuracy: 0.9207 - val_loss: 0.3025 - val_accuracy: 0.8973\n",
            "Epoch 22/100\n",
            "1688/1688 [==============================] - 6s 4ms/step - loss: 0.2025 - accuracy: 0.9235 - val_loss: 0.3038 - val_accuracy: 0.8933\n",
            "Epoch 23/100\n",
            "1688/1688 [==============================] - 6s 3ms/step - loss: 0.1985 - accuracy: 0.9249 - val_loss: 0.3031 - val_accuracy: 0.8958\n",
            "Epoch 24/100\n",
            "1688/1688 [==============================] - 6s 4ms/step - loss: 0.1942 - accuracy: 0.9265 - val_loss: 0.3026 - val_accuracy: 0.8992\n",
            "Epoch 25/100\n",
            "1688/1688 [==============================] - 6s 3ms/step - loss: 0.1910 - accuracy: 0.9274 - val_loss: 0.3045 - val_accuracy: 0.9010\n",
            "Epoch 26/100\n",
            "1688/1688 [==============================] - 6s 4ms/step - loss: 0.1879 - accuracy: 0.9279 - val_loss: 0.3019 - val_accuracy: 0.8980\n",
            "Epoch 27/100\n",
            "1688/1688 [==============================] - 6s 4ms/step - loss: 0.1839 - accuracy: 0.9296 - val_loss: 0.3072 - val_accuracy: 0.8973\n",
            "Epoch 28/100\n",
            "1688/1688 [==============================] - 6s 4ms/step - loss: 0.1808 - accuracy: 0.9321 - val_loss: 0.2979 - val_accuracy: 0.9023\n",
            "Epoch 29/100\n",
            "1688/1688 [==============================] - 6s 4ms/step - loss: 0.1798 - accuracy: 0.9307 - val_loss: 0.3007 - val_accuracy: 0.9007\n",
            "Epoch 30/100\n",
            "1688/1688 [==============================] - 6s 4ms/step - loss: 0.1745 - accuracy: 0.9329 - val_loss: 0.3154 - val_accuracy: 0.8982\n",
            "Epoch 31/100\n",
            "1688/1688 [==============================] - 6s 4ms/step - loss: 0.1701 - accuracy: 0.9350 - val_loss: 0.3107 - val_accuracy: 0.8985\n",
            "Epoch 32/100\n",
            "1688/1688 [==============================] - 6s 4ms/step - loss: 0.1705 - accuracy: 0.9344 - val_loss: 0.3121 - val_accuracy: 0.9010\n",
            "Epoch 33/100\n",
            "1688/1688 [==============================] - 6s 3ms/step - loss: 0.1652 - accuracy: 0.9359 - val_loss: 0.3138 - val_accuracy: 0.8995\n",
            "Epoch 34/100\n",
            "1688/1688 [==============================] - 6s 4ms/step - loss: 0.1644 - accuracy: 0.9359 - val_loss: 0.3203 - val_accuracy: 0.8988\n",
            "Epoch 35/100\n",
            "1688/1688 [==============================] - 6s 4ms/step - loss: 0.1646 - accuracy: 0.9374 - val_loss: 0.3147 - val_accuracy: 0.8997\n",
            "Epoch 36/100\n",
            "1688/1688 [==============================] - 6s 4ms/step - loss: 0.1563 - accuracy: 0.9400 - val_loss: 0.3218 - val_accuracy: 0.8978\n",
            "Epoch 37/100\n",
            "1688/1688 [==============================] - 6s 4ms/step - loss: 0.1578 - accuracy: 0.9399 - val_loss: 0.3100 - val_accuracy: 0.9013\n",
            "Epoch 38/100\n",
            "1674/1688 [============================>.] - ETA: 0s - loss: 0.1529 - accuracy: 0.9412Restoring model weights from the end of the best epoch: 28.\n",
            "1688/1688 [==============================] - 6s 4ms/step - loss: 0.1529 - accuracy: 0.9412 - val_loss: 0.3337 - val_accuracy: 0.9008\n",
            "Epoch 38: early stopping\n"
          ]
        }
      ],
      "source": [
        "early_stopping = EarlyStopping(monitor='val_accuracy', patience=10, verbose=1, restore_best_weights=True)\n",
        "best_hps=tuner.get_best_hyperparameters()[0]\n",
        "\n",
        "h_model = tuner.hypermodel.build(best_hps)\n",
        "\n",
        "hs_h_model = h_model.fit(X_train, Y_train, epochs=epochs, validation_split=0.1, callbacks=[early_stopping])"
      ]
    },
    {
      "cell_type": "code",
      "execution_count": null,
      "metadata": {
        "colab": {
          "base_uri": "https://localhost:8080/",
          "height": 417
        },
        "id": "nPlLugB6S7py",
        "outputId": "1abb8d21-9442-4373-8a8e-d017e6132021"
      },
      "outputs": [
        {
          "name": "stdout",
          "output_type": "stream",
          "text": [
            "Train accuracy: 0.9464\n",
            "Test accuracy: 0.8984\n",
            "\n"
          ]
        },
        {
          "data": {
            "image/png": "[encoded data removed]",
            "text/plain": [
              "<Figure size 576x360 with 1 Axes>"
            ]
          },
          "metadata": {},
          "output_type": "display_data"
        }
      ],
      "source": [
        "plot_history(hs_h_model, h_model, X_train, Y_train, X_test, Y_test)"
      ]
    },
    {
      "cell_type": "code",
      "execution_count": null,
      "metadata": {
        "id": "sb_jXmHE5jE8"
      },
      "outputs": [],
      "source": [
        "def build_model_SGD(hp):\n",
        "    model = keras.Sequential()\n",
        "    model.add(keras.layers.Flatten(input_shape=(28,28)))\n",
        "    for i in range(hp.Int(\"layers\", 2, 5)):\n",
        "        model.add(\n",
        "            Dense(\n",
        "                units=hp.Int(\"units_\" + str(i), min_value=256, max_value=512, step=128),\n",
        "                activation=hp.Choice('activation', ['relu', 'tanh']))\n",
        "            )\n",
        "        \n",
        "        \n",
        "        model.add(Dropout(hp.Float(\"dropout_\" + str(i), 0, 0.3, step=0.1)))\n",
        "    \n",
        "    # Add output layer.\n",
        "    model.add(Dense(units=10, activation=\"softmax\"))\n",
        "    model.compile(optimizer=SGD(learning_rate=hp.Choice(\"learning_rate\", values=[1e-2, 1e-4])),\n",
        "                  loss='categorical_crossentropy',\n",
        "                  metrics=[\"accuracy\"])\n",
        "    \n",
        "    return model"
      ]
    },
    {
      "cell_type": "code",
      "execution_count": null,
      "metadata": {
        "id": "FMFhLPdL5kVY"
      },
      "outputs": [],
      "source": [
        "tunerSGD = kt.BayesianOptimization(build_model_SGD,\n",
        "                     objective=\"val_accuracy\",\n",
        "                     max_trials=10,\n",
        "                     overwrite=True)"
      ]
    },
    {
      "cell_type": "code",
      "execution_count": null,
      "metadata": {
        "colab": {
          "base_uri": "https://localhost:8080/"
        },
        "id": "RycYmF666RYL",
        "outputId": "295d5efc-9423-423e-a877-f0f70820380d"
      },
      "outputs": [
        {
          "name": "stdout",
          "output_type": "stream",
          "text": [
            "Search space summary\n",
            "Default search space size: 7\n",
            "layers (Int)\n",
            "{'default': None, 'conditions': [], 'min_value': 2, 'max_value': 5, 'step': 1, 'sampling': None}\n",
            "units_0 (Int)\n",
            "{'default': None, 'conditions': [], 'min_value': 256, 'max_value': 512, 'step': 128, 'sampling': None}\n",
            "activation (Choice)\n",
            "{'default': 'relu', 'conditions': [], 'values': ['relu', 'tanh'], 'ordered': False}\n",
            "dropout_0 (Float)\n",
            "{'default': 0.0, 'conditions': [], 'min_value': 0.0, 'max_value': 0.3, 'step': 0.1, 'sampling': None}\n",
            "units_1 (Int)\n",
            "{'default': None, 'conditions': [], 'min_value': 256, 'max_value': 512, 'step': 128, 'sampling': None}\n",
            "dropout_1 (Float)\n",
            "{'default': 0.0, 'conditions': [], 'min_value': 0.0, 'max_value': 0.3, 'step': 0.1, 'sampling': None}\n",
            "learning_rate (Choice)\n",
            "{'default': 0.01, 'conditions': [], 'values': [0.01, 0.0001], 'ordered': True}\n"
          ]
        }
      ],
      "source": [
        "tunerSGD.search_space_summary()"
      ]
    },
    {
      "cell_type": "code",
      "execution_count": null,
      "metadata": {
        "colab": {
          "base_uri": "https://localhost:8080/"
        },
        "id": "kWa6lYwO6Uj1",
        "outputId": "2aed8668-0982-42e3-99ec-492abe92fbb4"
      },
      "outputs": [
        {
          "name": "stdout",
          "output_type": "stream",
          "text": [
            "Trial 10 Complete [00h 02m 22s]\n",
            "val_accuracy: 0.8821666836738586\n",
            "\n",
            "Best val_accuracy So Far: 0.8859999775886536\n",
            "Total elapsed time: 00h 23m 32s\n",
            "INFO:tensorflow:Oracle triggered exit\n"
          ]
        }
      ],
      "source": [
        "early_stopping = EarlyStopping(monitor='val_accuracy', patience=5, restore_best_weights=True)\n",
        "\n",
        "tunerSGD.search(X_train, Y_train, epochs=20, validation_split=0.1, callbacks=[early_stopping])"
      ]
    },
    {
      "cell_type": "code",
      "execution_count": null,
      "metadata": {
        "colab": {
          "base_uri": "https://localhost:8080/"
        },
        "id": "5grCUCA-6Whr",
        "outputId": "83fd82ef-a0c8-41fb-cc1d-2d9ace15652b"
      },
      "outputs": [
        {
          "name": "stdout",
          "output_type": "stream",
          "text": [
            "Epoch 1/100\n",
            "1688/1688 [==============================] - 7s 4ms/step - loss: 0.9890 - accuracy: 0.6396 - val_loss: 0.5530 - val_accuracy: 0.7952\n",
            "Epoch 2/100\n",
            "1688/1688 [==============================] - 6s 4ms/step - loss: 0.5577 - accuracy: 0.8019 - val_loss: 0.4507 - val_accuracy: 0.8388\n",
            "Epoch 3/100\n",
            "1688/1688 [==============================] - 6s 3ms/step - loss: 0.4784 - accuracy: 0.8304 - val_loss: 0.4038 - val_accuracy: 0.8492\n",
            "Epoch 4/100\n",
            "1688/1688 [==============================] - 6s 3ms/step - loss: 0.4339 - accuracy: 0.8451 - val_loss: 0.3902 - val_accuracy: 0.8588\n",
            "Epoch 5/100\n",
            "1688/1688 [==============================] - 6s 4ms/step - loss: 0.4090 - accuracy: 0.8530 - val_loss: 0.3790 - val_accuracy: 0.8615\n",
            "Epoch 6/100\n",
            "1688/1688 [==============================] - 6s 4ms/step - loss: 0.3874 - accuracy: 0.8601 - val_loss: 0.3596 - val_accuracy: 0.8687\n",
            "Epoch 7/100\n",
            "1688/1688 [==============================] - 6s 3ms/step - loss: 0.3721 - accuracy: 0.8654 - val_loss: 0.3480 - val_accuracy: 0.8755\n",
            "Epoch 8/100\n",
            "1688/1688 [==============================] - 6s 3ms/step - loss: 0.3569 - accuracy: 0.8707 - val_loss: 0.3462 - val_accuracy: 0.8763\n",
            "Epoch 9/100\n",
            "1688/1688 [==============================] - 6s 3ms/step - loss: 0.3480 - accuracy: 0.8743 - val_loss: 0.3364 - val_accuracy: 0.8807\n",
            "Epoch 10/100\n",
            "1688/1688 [==============================] - 6s 3ms/step - loss: 0.3385 - accuracy: 0.8769 - val_loss: 0.3332 - val_accuracy: 0.8808\n",
            "Epoch 11/100\n",
            "1688/1688 [==============================] - 6s 4ms/step - loss: 0.3291 - accuracy: 0.8808 - val_loss: 0.3426 - val_accuracy: 0.8780\n",
            "Epoch 12/100\n",
            "1688/1688 [==============================] - 6s 4ms/step - loss: 0.3223 - accuracy: 0.8826 - val_loss: 0.3426 - val_accuracy: 0.8762\n",
            "Epoch 13/100\n",
            "1688/1688 [==============================] - 6s 3ms/step - loss: 0.3126 - accuracy: 0.8865 - val_loss: 0.3170 - val_accuracy: 0.8837\n",
            "Epoch 14/100\n",
            "1688/1688 [==============================] - 6s 4ms/step - loss: 0.3053 - accuracy: 0.8881 - val_loss: 0.3303 - val_accuracy: 0.8772\n",
            "Epoch 15/100\n",
            "1688/1688 [==============================] - 6s 3ms/step - loss: 0.2996 - accuracy: 0.8903 - val_loss: 0.3284 - val_accuracy: 0.8817\n",
            "Epoch 16/100\n",
            "1688/1688 [==============================] - 6s 4ms/step - loss: 0.2938 - accuracy: 0.8918 - val_loss: 0.3357 - val_accuracy: 0.8812\n",
            "Epoch 17/100\n",
            "1688/1688 [==============================] - 6s 3ms/step - loss: 0.2897 - accuracy: 0.8943 - val_loss: 0.3151 - val_accuracy: 0.8843\n",
            "Epoch 18/100\n",
            "1688/1688 [==============================] - 6s 4ms/step - loss: 0.2822 - accuracy: 0.8956 - val_loss: 0.3347 - val_accuracy: 0.8870\n",
            "Epoch 19/100\n",
            "1688/1688 [==============================] - 6s 3ms/step - loss: 0.2776 - accuracy: 0.8975 - val_loss: 0.3147 - val_accuracy: 0.8867\n",
            "Epoch 20/100\n",
            "1688/1688 [==============================] - 6s 4ms/step - loss: 0.2705 - accuracy: 0.8999 - val_loss: 0.3151 - val_accuracy: 0.8845\n",
            "Epoch 21/100\n",
            "1688/1688 [==============================] - 6s 4ms/step - loss: 0.2681 - accuracy: 0.9008 - val_loss: 0.3142 - val_accuracy: 0.8878\n",
            "Epoch 22/100\n",
            "1688/1688 [==============================] - 6s 4ms/step - loss: 0.2631 - accuracy: 0.9032 - val_loss: 0.3172 - val_accuracy: 0.8890\n",
            "Epoch 23/100\n",
            "1688/1688 [==============================] - 6s 4ms/step - loss: 0.2595 - accuracy: 0.9042 - val_loss: 0.3144 - val_accuracy: 0.8873\n",
            "Epoch 24/100\n",
            "1688/1688 [==============================] - 6s 4ms/step - loss: 0.2543 - accuracy: 0.9050 - val_loss: 0.3225 - val_accuracy: 0.8860\n",
            "Epoch 25/100\n",
            "1688/1688 [==============================] - 6s 4ms/step - loss: 0.2499 - accuracy: 0.9084 - val_loss: 0.3107 - val_accuracy: 0.8917\n",
            "Epoch 26/100\n",
            "1688/1688 [==============================] - 6s 3ms/step - loss: 0.2504 - accuracy: 0.9071 - val_loss: 0.2978 - val_accuracy: 0.8930\n",
            "Epoch 27/100\n",
            "1688/1688 [==============================] - 6s 3ms/step - loss: 0.2444 - accuracy: 0.9096 - val_loss: 0.3116 - val_accuracy: 0.8885\n",
            "Epoch 28/100\n",
            "1688/1688 [==============================] - 6s 3ms/step - loss: 0.2401 - accuracy: 0.9110 - val_loss: 0.3013 - val_accuracy: 0.8948\n",
            "Epoch 29/100\n",
            "1688/1688 [==============================] - 6s 3ms/step - loss: 0.2350 - accuracy: 0.9120 - val_loss: 0.3153 - val_accuracy: 0.8935\n",
            "Epoch 30/100\n",
            "1688/1688 [==============================] - 6s 3ms/step - loss: 0.2356 - accuracy: 0.9139 - val_loss: 0.3040 - val_accuracy: 0.8922\n",
            "Epoch 31/100\n",
            "1688/1688 [==============================] - 6s 4ms/step - loss: 0.2322 - accuracy: 0.9129 - val_loss: 0.3077 - val_accuracy: 0.8917\n",
            "Epoch 32/100\n",
            "1688/1688 [==============================] - 6s 3ms/step - loss: 0.2298 - accuracy: 0.9134 - val_loss: 0.3130 - val_accuracy: 0.8917\n",
            "Epoch 33/100\n",
            "1688/1688 [==============================] - 6s 4ms/step - loss: 0.2219 - accuracy: 0.9174 - val_loss: 0.3083 - val_accuracy: 0.8907\n",
            "Epoch 34/100\n",
            "1688/1688 [==============================] - 6s 3ms/step - loss: 0.2211 - accuracy: 0.9182 - val_loss: 0.3000 - val_accuracy: 0.8963\n",
            "Epoch 35/100\n",
            "1688/1688 [==============================] - 6s 3ms/step - loss: 0.2184 - accuracy: 0.9193 - val_loss: 0.2950 - val_accuracy: 0.8968\n",
            "Epoch 36/100\n",
            "1688/1688 [==============================] - 6s 4ms/step - loss: 0.2171 - accuracy: 0.9183 - val_loss: 0.3364 - val_accuracy: 0.8857\n",
            "Epoch 37/100\n",
            "1688/1688 [==============================] - 6s 4ms/step - loss: 0.2142 - accuracy: 0.9205 - val_loss: 0.3113 - val_accuracy: 0.8915\n",
            "Epoch 38/100\n",
            "1688/1688 [==============================] - 6s 4ms/step - loss: 0.2099 - accuracy: 0.9209 - val_loss: 0.3062 - val_accuracy: 0.8992\n",
            "Epoch 39/100\n",
            "1688/1688 [==============================] - 6s 3ms/step - loss: 0.2084 - accuracy: 0.9221 - val_loss: 0.3098 - val_accuracy: 0.8940\n",
            "Epoch 40/100\n",
            "1688/1688 [==============================] - 6s 4ms/step - loss: 0.2059 - accuracy: 0.9246 - val_loss: 0.3274 - val_accuracy: 0.8945\n",
            "Epoch 41/100\n",
            "1688/1688 [==============================] - 6s 4ms/step - loss: 0.2034 - accuracy: 0.9246 - val_loss: 0.3537 - val_accuracy: 0.8830\n",
            "Epoch 42/100\n",
            "1688/1688 [==============================] - 6s 3ms/step - loss: 0.2023 - accuracy: 0.9243 - val_loss: 0.3201 - val_accuracy: 0.8940\n",
            "Epoch 43/100\n",
            "1688/1688 [==============================] - 6s 4ms/step - loss: 0.1959 - accuracy: 0.9272 - val_loss: 0.3111 - val_accuracy: 0.8988\n",
            "Epoch 44/100\n",
            "1688/1688 [==============================] - 6s 4ms/step - loss: 0.1958 - accuracy: 0.9271 - val_loss: 0.3126 - val_accuracy: 0.8962\n",
            "Epoch 45/100\n",
            "1688/1688 [==============================] - 6s 4ms/step - loss: 0.1941 - accuracy: 0.9271 - val_loss: 0.3174 - val_accuracy: 0.8975\n",
            "Epoch 46/100\n",
            "1688/1688 [==============================] - 6s 4ms/step - loss: 0.1931 - accuracy: 0.9275 - val_loss: 0.3043 - val_accuracy: 0.8970\n",
            "Epoch 47/100\n",
            "1688/1688 [==============================] - 6s 3ms/step - loss: 0.1899 - accuracy: 0.9295 - val_loss: 0.3198 - val_accuracy: 0.8945\n",
            "Epoch 48/100\n",
            "1688/1688 [==============================] - 6s 3ms/step - loss: 0.1876 - accuracy: 0.9299 - val_loss: 0.3077 - val_accuracy: 0.8993\n",
            "Epoch 49/100\n",
            "1688/1688 [==============================] - 6s 4ms/step - loss: 0.1843 - accuracy: 0.9320 - val_loss: 0.3316 - val_accuracy: 0.8920\n",
            "Epoch 50/100\n",
            "1688/1688 [==============================] - 6s 4ms/step - loss: 0.1864 - accuracy: 0.9298 - val_loss: 0.3235 - val_accuracy: 0.8950\n",
            "Epoch 51/100\n",
            "1688/1688 [==============================] - 6s 4ms/step - loss: 0.1805 - accuracy: 0.9323 - val_loss: 0.3176 - val_accuracy: 0.8947\n",
            "Epoch 52/100\n",
            "1688/1688 [==============================] - 6s 3ms/step - loss: 0.1800 - accuracy: 0.9327 - val_loss: 0.3177 - val_accuracy: 0.8975\n",
            "Epoch 53/100\n",
            "1688/1688 [==============================] - 6s 3ms/step - loss: 0.1773 - accuracy: 0.9337 - val_loss: 0.3055 - val_accuracy: 0.8970\n",
            "Epoch 54/100\n",
            "1688/1688 [==============================] - 6s 4ms/step - loss: 0.1744 - accuracy: 0.9335 - val_loss: 0.3237 - val_accuracy: 0.8957\n",
            "Epoch 55/100\n",
            "1688/1688 [==============================] - 6s 3ms/step - loss: 0.1757 - accuracy: 0.9346 - val_loss: 0.3399 - val_accuracy: 0.8972\n",
            "Epoch 56/100\n",
            "1688/1688 [==============================] - 6s 3ms/step - loss: 0.1737 - accuracy: 0.9352 - val_loss: 0.3617 - val_accuracy: 0.8808\n",
            "Epoch 57/100\n",
            "1688/1688 [==============================] - 6s 3ms/step - loss: 0.1712 - accuracy: 0.9362 - val_loss: 0.3345 - val_accuracy: 0.8987\n",
            "Epoch 58/100\n",
            "1687/1688 [============================>.] - ETA: 0s - loss: 0.1696 - accuracy: 0.9367Restoring model weights from the end of the best epoch: 48.\n",
            "1688/1688 [==============================] - 6s 4ms/step - loss: 0.1696 - accuracy: 0.9367 - val_loss: 0.3216 - val_accuracy: 0.8980\n",
            "Epoch 58: early stopping\n"
          ]
        }
      ],
      "source": [
        "early_stopping = EarlyStopping(monitor='val_accuracy', patience=10, verbose=1, restore_best_weights=True)\n",
        "best_hps=tunerSGD.get_best_hyperparameters()[0]\n",
        "\n",
        "h_modelSGD = tunerSGD.hypermodel.build(best_hps)\n",
        "\n",
        "hs_h_modelSGD = h_modelSGD.fit(X_train, Y_train, epochs=epochs, validation_split=0.1, callbacks=[early_stopping])"
      ]
    },
    {
      "cell_type": "code",
      "execution_count": null,
      "metadata": {
        "colab": {
          "base_uri": "https://localhost:8080/",
          "height": 417
        },
        "id": "j1p6h3_A6Wjl",
        "outputId": "4f5fcd3e-0354-47c3-9f98-7960ce7780a0"
      },
      "outputs": [
        {
          "name": "stdout",
          "output_type": "stream",
          "text": [
            "Train accuracy: 0.9434\n",
            "Test accuracy: 0.895\n",
            "\n"
          ]
        },
        {
          "data": {
            "image/png": "[encoded data removed]",
            "text/plain": [
              "<Figure size 576x360 with 1 Axes>"
            ]
          },
          "metadata": {},
          "output_type": "display_data"
        }
      ],
      "source": [
        "plot_history(hs_h_modelSGD, h_modelSGD, X_train, Y_train, X_test, Y_test)"
      ]
    },
    {
      "cell_type": "code",
      "execution_count": null,
      "metadata": {
        "id": "0_jWsgwKS7rl"
      },
      "outputs": [],
      "source": [
        "def build_model_CNN(hp):\n",
        "    model = keras.Sequential([\n",
        "                              Conv2D(\n",
        "                                  filters=hp.Int('conv_1_filter', min_value=32, max_value=128, step=16),\n",
        "                                  kernel_size=hp.Int('conv_1_kernel', 3,5),\n",
        "                                  activation=hp.Choice('activation', ['relu', 'tanh']),\n",
        "                                  input_shape=(28, 28, 1),\n",
        "                                  \n",
        "                              ),\n",
        "                              MaxPool2D(pool_size=(2, 2), strides=(2, 2), padding='same', name='MaxPool2D1'),\n",
        "                              Dropout(hp.Float(\"dropout_1\", 0, 0.5, step=0.1)),\n",
        "                              Conv2D(\n",
        "                                  filters=hp.Int('conv_2_filter', min_value=32, max_value=64, step=16),\n",
        "                                  kernel_size=hp.Int('conv_2_kernel',3,5),\n",
        "                                  activation=hp.Choice('activation', ['relu', 'tanh'])\n",
        "                              ),\n",
        "                              MaxPool2D(pool_size=(2, 2), strides=(2, 2), padding='same', name='MaxPool2D2'),\n",
        "                              Dropout(hp.Float(\"dropout_2\", 0, 0.5, step=0.1)),\n",
        "                              Conv2D(\n",
        "                                  filters=hp.Int('conv_3_filter', min_value=32, max_value=64, step=16),\n",
        "                                  kernel_size=hp.Int('conv_3_kernel',3,5),\n",
        "                                  activation=hp.Choice('activation', ['relu', 'tanh'])\n",
        "                              ),\n",
        "                              MaxPool2D(pool_size=(2, 2), strides=(2, 2), padding='same', name='MaxPool2D3'),\n",
        "                              Dropout(hp.Float(\"dropout_3\", 0, 0.5, step=0.1)),\n",
        "                              Flatten(),\n",
        "                              Dense(\n",
        "                                  units=hp.Int('dense_1_units', min_value=32, max_value=128, step=16),\n",
        "                                  activation=hp.Choice('activation', ['relu', 'tanh'])\n",
        "                              ),\n",
        "                              Dense(10, activation='softmax')\n",
        "    ])\n",
        "    model.compile(optimizer=Adam(hp.Choice('learning_rate', values=[1e-1, 1e-2, 1e-3, 1e-4,  1e-5])),\n",
        "                  loss='categorical_crossentropy',\n",
        "                  metrics=['accuracy'])\n",
        "    return model"
      ]
    },
    {
      "cell_type": "code",
      "execution_count": null,
      "metadata": {
        "id": "PxZGd_rb0ODq"
      },
      "outputs": [],
      "source": [
        "tuner_hyperband_CNN = kt.Hyperband(build_model,\n",
        "                     objective=\"val_accuracy\",\n",
        "                     max_epochs=70,\n",
        "                     overwrite=True,\n",
        "                     directory=\"kt_dir\",\n",
        "                     project_name=\"kt_hyperband\")"
      ]
    },
    {
      "cell_type": "code",
      "execution_count": null,
      "metadata": {
        "id": "E7vdkiNtiOJM"
      },
      "outputs": [],
      "source": [
        "tuner_CNN = kt.BayesianOptimization(build_model_CNN,\n",
        "                     objective=\"val_accuracy\",\n",
        "                     max_trials=10,\n",
        "                     overwrite=True)"
      ]
    },
    {
      "cell_type": "code",
      "execution_count": null,
      "metadata": {
        "colab": {
          "base_uri": "https://localhost:8080/"
        },
        "id": "WLOvLQ-2mYf0",
        "outputId": "83b9c639-7a22-41ed-a361-9e51b738d259"
      },
      "outputs": [
        {
          "name": "stdout",
          "output_type": "stream",
          "text": [
            "Search space summary\n",
            "Default search space size: 7\n",
            "layers (Int)\n",
            "{'default': None, 'conditions': [], 'min_value': 2, 'max_value': 5, 'step': 1, 'sampling': None}\n",
            "units_0 (Int)\n",
            "{'default': None, 'conditions': [], 'min_value': 256, 'max_value': 512, 'step': 128, 'sampling': None}\n",
            "activation (Choice)\n",
            "{'default': 'relu', 'conditions': [], 'values': ['relu', 'tanh'], 'ordered': False}\n",
            "dropout_0 (Float)\n",
            "{'default': 0.0, 'conditions': [], 'min_value': 0.0, 'max_value': 0.3, 'step': 0.1, 'sampling': None}\n",
            "units_1 (Int)\n",
            "{'default': None, 'conditions': [], 'min_value': 256, 'max_value': 512, 'step': 128, 'sampling': None}\n",
            "dropout_1 (Float)\n",
            "{'default': 0.0, 'conditions': [], 'min_value': 0.0, 'max_value': 0.3, 'step': 0.1, 'sampling': None}\n",
            "learning_rate (Choice)\n",
            "{'default': 0.01, 'conditions': [], 'values': [0.01, 0.0001], 'ordered': True}\n"
          ]
        }
      ],
      "source": [
        "tuner_hyperband_CNN.search_space_summary()"
      ]
    },
    {
      "cell_type": "code",
      "execution_count": null,
      "metadata": {
        "colab": {
          "base_uri": "https://localhost:8080/"
        },
        "id": "zCSsdSWOltvg",
        "outputId": "aa2f87c9-5859-44c8-9b43-9306fde632d4"
      },
      "outputs": [
        {
          "name": "stdout",
          "output_type": "stream",
          "text": [
            "Trial 90 Complete [00h 04m 32s]\n",
            "val_accuracy: 0.8970000147819519\n",
            "\n",
            "Best val_accuracy So Far: 0.9043333530426025\n",
            "Total elapsed time: 01h 48m 56s\n",
            "INFO:tensorflow:Oracle triggered exit\n"
          ]
        }
      ],
      "source": [
        "early_stopping = EarlyStopping(monitor='val_accuracy', patience=7, restore_best_weights=True)\n",
        "\n",
        "tuner_hyperband_CNN.search(X_train, Y_train, epochs=50, validation_split=0.1, callbacks=[early_stopping])"
      ]
    },
    {
      "cell_type": "code",
      "execution_count": null,
      "metadata": {
        "colab": {
          "background_save": true,
          "base_uri": "https://localhost:8080/"
        },
        "id": "S0ZbaLKmltxa",
        "outputId": "550e017a-6dff-4e40-c008-f9f58b738020"
      },
      "outputs": [
        {
          "name": "stdout",
          "output_type": "stream",
          "text": [
            "Epoch 1/100\n",
            "1688/1688 [==============================] - 7s 4ms/step - loss: 0.6168 - accuracy: 0.7830 - val_loss: 0.4198 - val_accuracy: 0.8448\n",
            "Epoch 2/100\n",
            "1688/1688 [==============================] - 6s 3ms/step - loss: 0.4060 - accuracy: 0.8525 - val_loss: 0.3747 - val_accuracy: 0.8640\n",
            "Epoch 3/100\n",
            "1688/1688 [==============================] - 6s 4ms/step - loss: 0.3625 - accuracy: 0.8689 - val_loss: 0.3571 - val_accuracy: 0.8665\n",
            "Epoch 4/100\n",
            "1688/1688 [==============================] - 6s 3ms/step - loss: 0.3336 - accuracy: 0.8779 - val_loss: 0.3514 - val_accuracy: 0.8768\n",
            "Epoch 5/100\n",
            "1688/1688 [==============================] - 6s 3ms/step - loss: 0.3091 - accuracy: 0.8863 - val_loss: 0.3415 - val_accuracy: 0.8783\n",
            "Epoch 6/100\n",
            "1688/1688 [==============================] - 6s 3ms/step - loss: 0.2941 - accuracy: 0.8914 - val_loss: 0.3238 - val_accuracy: 0.8840\n",
            "Epoch 7/100\n",
            "1688/1688 [==============================] - 6s 4ms/step - loss: 0.2778 - accuracy: 0.8978 - val_loss: 0.3499 - val_accuracy: 0.8768\n",
            "Epoch 8/100\n",
            "1688/1688 [==============================] - 6s 3ms/step - loss: 0.2660 - accuracy: 0.9011 - val_loss: 0.3118 - val_accuracy: 0.8905\n",
            "Epoch 9/100\n",
            "1688/1688 [==============================] - 6s 3ms/step - loss: 0.2544 - accuracy: 0.9048 - val_loss: 0.3162 - val_accuracy: 0.8908\n",
            "Epoch 10/100\n",
            "1688/1688 [==============================] - 6s 4ms/step - loss: 0.2427 - accuracy: 0.9102 - val_loss: 0.2989 - val_accuracy: 0.8945\n",
            "Epoch 11/100\n",
            "1688/1688 [==============================] - 6s 4ms/step - loss: 0.2333 - accuracy: 0.9128 - val_loss: 0.3093 - val_accuracy: 0.8908\n",
            "Epoch 12/100\n",
            "1688/1688 [==============================] - 6s 4ms/step - loss: 0.2247 - accuracy: 0.9157 - val_loss: 0.3004 - val_accuracy: 0.8933\n",
            "Epoch 13/100\n",
            "1688/1688 [==============================] - 6s 4ms/step - loss: 0.2162 - accuracy: 0.9181 - val_loss: 0.3086 - val_accuracy: 0.8902\n",
            "Epoch 14/100\n",
            "1688/1688 [==============================] - 6s 4ms/step - loss: 0.2096 - accuracy: 0.9218 - val_loss: 0.3330 - val_accuracy: 0.8872\n",
            "Epoch 15/100\n",
            "1688/1688 [==============================] - 6s 3ms/step - loss: 0.2010 - accuracy: 0.9251 - val_loss: 0.3284 - val_accuracy: 0.8892\n",
            "Epoch 16/100\n",
            "1688/1688 [==============================] - 6s 3ms/step - loss: 0.1939 - accuracy: 0.9261 - val_loss: 0.3150 - val_accuracy: 0.8970\n",
            "Epoch 17/100\n",
            "1688/1688 [==============================] - 6s 4ms/step - loss: 0.1868 - accuracy: 0.9288 - val_loss: 0.3260 - val_accuracy: 0.8938\n",
            "Epoch 18/100\n",
            "1688/1688 [==============================] - 6s 3ms/step - loss: 0.1818 - accuracy: 0.9318 - val_loss: 0.3275 - val_accuracy: 0.8940\n",
            "Epoch 19/100\n",
            "1688/1688 [==============================] - 6s 3ms/step - loss: 0.1755 - accuracy: 0.9333 - val_loss: 0.3331 - val_accuracy: 0.8947\n",
            "Epoch 20/100\n",
            "1688/1688 [==============================] - 6s 3ms/step - loss: 0.1698 - accuracy: 0.9352 - val_loss: 0.3295 - val_accuracy: 0.8932\n",
            "Epoch 21/100\n",
            "1688/1688 [==============================] - 6s 3ms/step - loss: 0.1639 - accuracy: 0.9378 - val_loss: 0.3240 - val_accuracy: 0.8957\n",
            "Epoch 22/100\n",
            "1688/1688 [==============================] - 6s 3ms/step - loss: 0.1578 - accuracy: 0.9400 - val_loss: 0.3228 - val_accuracy: 0.8962\n",
            "Epoch 23/100\n",
            "1688/1688 [==============================] - 6s 4ms/step - loss: 0.1544 - accuracy: 0.9408 - val_loss: 0.3393 - val_accuracy: 0.8937\n",
            "Epoch 24/100\n",
            "1688/1688 [==============================] - 6s 3ms/step - loss: 0.1493 - accuracy: 0.9426 - val_loss: 0.3426 - val_accuracy: 0.8982\n",
            "Epoch 25/100\n",
            "1688/1688 [==============================] - 6s 4ms/step - loss: 0.1451 - accuracy: 0.9456 - val_loss: 0.3377 - val_accuracy: 0.8988\n",
            "Epoch 26/100\n",
            "1688/1688 [==============================] - 6s 3ms/step - loss: 0.1408 - accuracy: 0.9464 - val_loss: 0.3366 - val_accuracy: 0.8997\n",
            "Epoch 27/100\n",
            "1688/1688 [==============================] - 6s 4ms/step - loss: 0.1359 - accuracy: 0.9481 - val_loss: 0.3689 - val_accuracy: 0.8968\n",
            "Epoch 28/100\n",
            "1688/1688 [==============================] - 6s 4ms/step - loss: 0.1344 - accuracy: 0.9478 - val_loss: 0.3566 - val_accuracy: 0.8965\n",
            "Epoch 29/100\n",
            "1688/1688 [==============================] - 6s 3ms/step - loss: 0.1306 - accuracy: 0.9498 - val_loss: 0.3667 - val_accuracy: 0.8957\n",
            "Epoch 30/100\n",
            "1688/1688 [==============================] - 6s 4ms/step - loss: 0.1265 - accuracy: 0.9509 - val_loss: 0.3811 - val_accuracy: 0.8995\n",
            "Epoch 31/100\n",
            "1688/1688 [==============================] - 6s 4ms/step - loss: 0.1235 - accuracy: 0.9521 - val_loss: 0.3963 - val_accuracy: 0.8962\n",
            "Epoch 32/100\n",
            "1688/1688 [==============================] - 6s 4ms/step - loss: 0.1234 - accuracy: 0.9536 - val_loss: 0.3789 - val_accuracy: 0.8992\n",
            "Epoch 33/100\n",
            "1688/1688 [==============================] - 6s 3ms/step - loss: 0.1175 - accuracy: 0.9550 - val_loss: 0.3776 - val_accuracy: 0.8990\n",
            "Epoch 34/100\n",
            "1688/1688 [==============================] - 6s 4ms/step - loss: 0.1159 - accuracy: 0.9563 - val_loss: 0.3690 - val_accuracy: 0.8990\n",
            "Epoch 35/100\n",
            "1688/1688 [==============================] - 6s 3ms/step - loss: 0.1115 - accuracy: 0.9569 - val_loss: 0.3919 - val_accuracy: 0.8962\n",
            "Epoch 36/100\n",
            "1688/1688 [==============================] - 6s 3ms/step - loss: 0.1110 - accuracy: 0.9578 - val_loss: 0.3652 - val_accuracy: 0.9023\n",
            "Epoch 37/100\n",
            "1688/1688 [==============================] - 6s 4ms/step - loss: 0.1059 - accuracy: 0.9597 - val_loss: 0.3882 - val_accuracy: 0.8993\n",
            "Epoch 38/100\n",
            "1688/1688 [==============================] - 6s 3ms/step - loss: 0.1026 - accuracy: 0.9602 - val_loss: 0.3960 - val_accuracy: 0.8983\n",
            "Epoch 39/100\n",
            "1688/1688 [==============================] - 6s 3ms/step - loss: 0.1015 - accuracy: 0.9609 - val_loss: 0.4149 - val_accuracy: 0.8983\n",
            "Epoch 40/100\n",
            "1688/1688 [==============================] - 6s 3ms/step - loss: 0.0991 - accuracy: 0.9626 - val_loss: 0.3993 - val_accuracy: 0.9000\n",
            "Epoch 41/100\n",
            "1688/1688 [==============================] - 6s 4ms/step - loss: 0.0996 - accuracy: 0.9626 - val_loss: 0.4082 - val_accuracy: 0.8992\n",
            "Epoch 42/100\n",
            "1688/1688 [==============================] - 6s 4ms/step - loss: 0.0970 - accuracy: 0.9626 - val_loss: 0.4147 - val_accuracy: 0.8982\n",
            "Epoch 43/100\n",
            "1688/1688 [==============================] - 6s 3ms/step - loss: 0.0934 - accuracy: 0.9637 - val_loss: 0.4066 - val_accuracy: 0.8990\n",
            "Epoch 44/100\n",
            "1688/1688 [==============================] - 6s 3ms/step - loss: 0.0903 - accuracy: 0.9653 - val_loss: 0.4479 - val_accuracy: 0.8882\n",
            "Epoch 45/100\n",
            "1688/1688 [==============================] - 6s 3ms/step - loss: 0.0930 - accuracy: 0.9645 - val_loss: 0.4601 - val_accuracy: 0.8940\n",
            "Epoch 46/100\n",
            "1675/1688 [============================>.] - ETA: 0s - loss: 0.0887 - accuracy: 0.9662Restoring model weights from the end of the best epoch: 36.\n",
            "1688/1688 [==============================] - 6s 3ms/step - loss: 0.0888 - accuracy: 0.9660 - val_loss: 0.4186 - val_accuracy: 0.8975\n",
            "Epoch 46: early stopping\n"
          ]
        }
      ],
      "source": [
        "early_stopping = EarlyStopping(monitor='val_accuracy', patience=10, verbose=1, restore_best_weights=True)\n",
        "best_hps_CNN=tuner_hyperband_CNN.get_best_hyperparameters()[0]\n",
        "\n",
        "cnnmodel = tuner_hyperband_CNN.hypermodel.build(best_hps_CNN)\n",
        "\n",
        "hs_cnn_model = cnnmodel.fit(X_train, Y_train, epochs=epochs, validation_split=0.1, callbacks=[early_stopping])"
      ]
    },
    {
      "cell_type": "code",
      "execution_count": null,
      "metadata": {
        "colab": {
          "base_uri": "https://localhost:8080/",
          "height": 417
        },
        "id": "fb_JScS0ztaL",
        "outputId": "92fd02e6-eeb6-4a0c-ac4c-b2f6fda49076"
      },
      "outputs": [
        {
          "name": "stdout",
          "output_type": "stream",
          "text": [
            "Train accuracy: 0.962\n",
            "Test accuracy: 0.8966\n",
            "\n"
          ]
        },
        {
          "data": {
            "image/png": "[encoded data removed]",
            "text/plain": [
              "<Figure size 576x360 with 1 Axes>"
            ]
          },
          "metadata": {},
          "output_type": "display_data"
        }
      ],
      "source": [
        "plot_history(hs_cnn_model, cnnmodel, X_train, Y_train, X_test, Y_test)"
      ]
    },
    {
      "cell_type": "code",
      "execution_count": null,
      "metadata": {
        "id": "sN11D6Hfztb_"
      },
      "outputs": [],
      "source": [
        "def build_model_CNN_SGD(hp):\n",
        "    model = keras.Sequential([\n",
        "                              Conv2D(\n",
        "                                  filters=hp.Int('conv_1_filter', min_value=32, max_value=128, step=32),\n",
        "                                  kernel_size=hp.Int('conv_1_kernel', 3,5),\n",
        "                                  activation='relu',\n",
        "                                  input_shape=(28, 28, 1),\n",
        "                                  \n",
        "                              ),\n",
        "                              MaxPool2D(pool_size=(2, 2), strides=(2, 2), padding='same', name='MaxPool2D1'),\n",
        "                              Dropout(rate=0.3, name='Dropout1'),\n",
        "                              Conv2D(\n",
        "                                  filters=hp.Int('conv_2_filter', min_value=32, max_value=64, step=32),\n",
        "                                  kernel_size=hp.Int('conv_2_kernel', 3,5),\n",
        "                                  activation='relu'\n",
        "                              ),\n",
        "                              MaxPool2D(pool_size=(2, 2), strides=(2, 2), padding='same', name='MaxPool2D2'),\n",
        "                              Dropout(rate=0.4, name='Dropout2'),\n",
        "                              Conv2D(\n",
        "                                  filters=hp.Int('conv_3_filter', min_value=32, max_value=64, step=32),\n",
        "                                  kernel_size=hp.Int('conv_3_kernel', 3,5),\n",
        "                                  activation='relu'\n",
        "                              ),\n",
        "                              MaxPool2D(pool_size=(2, 2), strides=(2, 2), padding='same', name='MaxPool2D3'),\n",
        "                              Dropout(rate=0.5, name='Dropout3'),\n",
        "                              Flatten(),\n",
        "                              Dense(\n",
        "                                  units=hp.Int('dense_1_units', min_value=32, max_value=128, step=32),\n",
        "                                  activation='relu'\n",
        "                              ),\n",
        "                              Dense(10, activation='softmax')\n",
        "    ])\n",
        "    model.compile(optimizer=SGD(hp.Choice('learning_rate', values=[1e-2, 1e-4])),\n",
        "                  loss='categorical_crossentropy',\n",
        "                  metrics=['accuracy'])\n",
        "    return model"
      ]
    },
    {
      "cell_type": "code",
      "execution_count": null,
      "metadata": {
        "id": "mxjtaExDzte4"
      },
      "outputs": [],
      "source": [
        "tuner_CNNSGD = kt.BayesianOptimization(build_model_CNN_SGD,\n",
        "                     objective=\"val_accuracy\",\n",
        "                     max_trials=10,\n",
        "                     overwrite=True)"
      ]
    },
    {
      "cell_type": "code",
      "execution_count": null,
      "metadata": {
        "colab": {
          "base_uri": "https://localhost:8080/"
        },
        "id": "Jq3X1quF6v6O",
        "outputId": "6f51fb01-b722-4cb8-8820-e3d4182248ba"
      },
      "outputs": [
        {
          "name": "stdout",
          "output_type": "stream",
          "text": [
            "Search space summary\n",
            "Default search space size: 8\n",
            "conv_1_filter (Int)\n",
            "{'default': None, 'conditions': [], 'min_value': 32, 'max_value': 128, 'step': 32, 'sampling': None}\n",
            "conv_1_kernel (Choice)\n",
            "{'default': 3, 'conditions': [], 'values': [3, 5], 'ordered': True}\n",
            "conv_2_filter (Int)\n",
            "{'default': None, 'conditions': [], 'min_value': 32, 'max_value': 64, 'step': 32, 'sampling': None}\n",
            "conv_2_kernel (Choice)\n",
            "{'default': 3, 'conditions': [], 'values': [3, 5], 'ordered': True}\n",
            "conv_3_filter (Int)\n",
            "{'default': None, 'conditions': [], 'min_value': 32, 'max_value': 64, 'step': 32, 'sampling': None}\n",
            "conv_3_kernel (Choice)\n",
            "{'default': 3, 'conditions': [], 'values': [3, 5], 'ordered': True}\n",
            "dense_1_units (Int)\n",
            "{'default': None, 'conditions': [], 'min_value': 32, 'max_value': 128, 'step': 32, 'sampling': None}\n",
            "learning_rate (Choice)\n",
            "{'default': 0.01, 'conditions': [], 'values': [0.01, 0.0001], 'ordered': True}\n"
          ]
        }
      ],
      "source": [
        "tuner_CNNSGD.search_space_summary()"
      ]
    },
    {
      "cell_type": "code",
      "execution_count": null,
      "metadata": {
        "colab": {
          "base_uri": "https://localhost:8080/"
        },
        "id": "sSlOA7ye6v8D",
        "outputId": "c77af675-f2a2-43a2-9bc1-c0d5afd1647d"
      },
      "outputs": [
        {
          "name": "stdout",
          "output_type": "stream",
          "text": [
            "Trial 10 Complete [00h 03m 22s]\n",
            "val_accuracy: 0.8473333120346069\n",
            "\n",
            "Best val_accuracy So Far: 0.8765000104904175\n",
            "Total elapsed time: 00h 31m 01s\n",
            "INFO:tensorflow:Oracle triggered exit\n"
          ]
        }
      ],
      "source": [
        "early_stopping = EarlyStopping(monitor='val_accuracy', patience=5, restore_best_weights=True)\n",
        "\n",
        "tuner_CNNSGD.search(X_train, Y_train, epochs=20, validation_split=0.1, callbacks=[early_stopping])"
      ]
    },
    {
      "cell_type": "code",
      "execution_count": null,
      "metadata": {
        "colab": {
          "base_uri": "https://localhost:8080/"
        },
        "id": "A8lf3jDE64p7",
        "outputId": "f10156d1-2107-4e4e-9703-a5919a796ada"
      },
      "outputs": [
        {
          "name": "stdout",
          "output_type": "stream",
          "text": [
            "Epoch 1/100\n",
            "1688/1688 [==============================] - 8s 4ms/step - loss: 1.4322 - accuracy: 0.4563 - val_loss: 0.7771 - val_accuracy: 0.6890\n",
            "Epoch 2/100\n",
            "1688/1688 [==============================] - 7s 4ms/step - loss: 0.8290 - accuracy: 0.6806 - val_loss: 0.6445 - val_accuracy: 0.7495\n",
            "Epoch 3/100\n",
            "1688/1688 [==============================] - 7s 4ms/step - loss: 0.7263 - accuracy: 0.7205 - val_loss: 0.5870 - val_accuracy: 0.7733\n",
            "Epoch 4/100\n",
            "1688/1688 [==============================] - 7s 4ms/step - loss: 0.6680 - accuracy: 0.7446 - val_loss: 0.5431 - val_accuracy: 0.7875\n",
            "Epoch 5/100\n",
            "1688/1688 [==============================] - 7s 4ms/step - loss: 0.6295 - accuracy: 0.7624 - val_loss: 0.5169 - val_accuracy: 0.7962\n",
            "Epoch 6/100\n",
            "1688/1688 [==============================] - 7s 4ms/step - loss: 0.6015 - accuracy: 0.7720 - val_loss: 0.4906 - val_accuracy: 0.8130\n",
            "Epoch 7/100\n",
            "1688/1688 [==============================] - 7s 4ms/step - loss: 0.5771 - accuracy: 0.7841 - val_loss: 0.4664 - val_accuracy: 0.8273\n",
            "Epoch 8/100\n",
            "1688/1688 [==============================] - 7s 4ms/step - loss: 0.5569 - accuracy: 0.7926 - val_loss: 0.4413 - val_accuracy: 0.8370\n",
            "Epoch 9/100\n",
            "1688/1688 [==============================] - 7s 4ms/step - loss: 0.5409 - accuracy: 0.8015 - val_loss: 0.4272 - val_accuracy: 0.8435\n",
            "Epoch 10/100\n",
            "1688/1688 [==============================] - 7s 4ms/step - loss: 0.5218 - accuracy: 0.8101 - val_loss: 0.4205 - val_accuracy: 0.8500\n",
            "Epoch 11/100\n",
            "1688/1688 [==============================] - 7s 4ms/step - loss: 0.5064 - accuracy: 0.8149 - val_loss: 0.4099 - val_accuracy: 0.8485\n",
            "Epoch 12/100\n",
            "1688/1688 [==============================] - 7s 4ms/step - loss: 0.4921 - accuracy: 0.8186 - val_loss: 0.4059 - val_accuracy: 0.8447\n",
            "Epoch 13/100\n",
            "1688/1688 [==============================] - 7s 4ms/step - loss: 0.4822 - accuracy: 0.8262 - val_loss: 0.3800 - val_accuracy: 0.8602\n",
            "Epoch 14/100\n",
            "1688/1688 [==============================] - 7s 4ms/step - loss: 0.4706 - accuracy: 0.8292 - val_loss: 0.3733 - val_accuracy: 0.8617\n",
            "Epoch 15/100\n",
            "1688/1688 [==============================] - 7s 4ms/step - loss: 0.4596 - accuracy: 0.8324 - val_loss: 0.3691 - val_accuracy: 0.8635\n",
            "Epoch 16/100\n",
            "1688/1688 [==============================] - 7s 4ms/step - loss: 0.4519 - accuracy: 0.8375 - val_loss: 0.3582 - val_accuracy: 0.8680\n",
            "Epoch 17/100\n",
            "1688/1688 [==============================] - 7s 4ms/step - loss: 0.4428 - accuracy: 0.8395 - val_loss: 0.3583 - val_accuracy: 0.8660\n",
            "Epoch 18/100\n",
            "1688/1688 [==============================] - 7s 4ms/step - loss: 0.4402 - accuracy: 0.8412 - val_loss: 0.3525 - val_accuracy: 0.8677\n",
            "Epoch 19/100\n",
            "1688/1688 [==============================] - 7s 4ms/step - loss: 0.4327 - accuracy: 0.8453 - val_loss: 0.3420 - val_accuracy: 0.8730\n",
            "Epoch 20/100\n",
            "1688/1688 [==============================] - 7s 4ms/step - loss: 0.4217 - accuracy: 0.8484 - val_loss: 0.3345 - val_accuracy: 0.8763\n",
            "Epoch 21/100\n",
            "1688/1688 [==============================] - 7s 4ms/step - loss: 0.4194 - accuracy: 0.8488 - val_loss: 0.3315 - val_accuracy: 0.8792\n",
            "Epoch 22/100\n",
            "1688/1688 [==============================] - 7s 4ms/step - loss: 0.4161 - accuracy: 0.8498 - val_loss: 0.3253 - val_accuracy: 0.8817\n",
            "Epoch 23/100\n",
            "1688/1688 [==============================] - 7s 4ms/step - loss: 0.4074 - accuracy: 0.8553 - val_loss: 0.3195 - val_accuracy: 0.8843\n",
            "Epoch 24/100\n",
            "1688/1688 [==============================] - 7s 4ms/step - loss: 0.4017 - accuracy: 0.8555 - val_loss: 0.3208 - val_accuracy: 0.8825\n",
            "Epoch 25/100\n",
            "1688/1688 [==============================] - 7s 4ms/step - loss: 0.3994 - accuracy: 0.8562 - val_loss: 0.3175 - val_accuracy: 0.8813\n",
            "Epoch 26/100\n",
            "1688/1688 [==============================] - 7s 4ms/step - loss: 0.3945 - accuracy: 0.8606 - val_loss: 0.3139 - val_accuracy: 0.8850\n",
            "Epoch 27/100\n",
            "1688/1688 [==============================] - 7s 4ms/step - loss: 0.3918 - accuracy: 0.8598 - val_loss: 0.3080 - val_accuracy: 0.8860\n",
            "Epoch 28/100\n",
            "1688/1688 [==============================] - 7s 4ms/step - loss: 0.3872 - accuracy: 0.8609 - val_loss: 0.3151 - val_accuracy: 0.8870\n",
            "Epoch 29/100\n",
            "1688/1688 [==============================] - 7s 4ms/step - loss: 0.3813 - accuracy: 0.8629 - val_loss: 0.3144 - val_accuracy: 0.8828\n",
            "Epoch 30/100\n",
            "1688/1688 [==============================] - 7s 4ms/step - loss: 0.3820 - accuracy: 0.8640 - val_loss: 0.3048 - val_accuracy: 0.8878\n",
            "Epoch 31/100\n",
            "1688/1688 [==============================] - 7s 4ms/step - loss: 0.3740 - accuracy: 0.8642 - val_loss: 0.3116 - val_accuracy: 0.8827\n",
            "Epoch 32/100\n",
            "1688/1688 [==============================] - 7s 4ms/step - loss: 0.3759 - accuracy: 0.8672 - val_loss: 0.2963 - val_accuracy: 0.8852\n",
            "Epoch 33/100\n",
            "1688/1688 [==============================] - 7s 4ms/step - loss: 0.3747 - accuracy: 0.8657 - val_loss: 0.2988 - val_accuracy: 0.8862\n",
            "Epoch 34/100\n",
            "1688/1688 [==============================] - 7s 4ms/step - loss: 0.3695 - accuracy: 0.8678 - val_loss: 0.2914 - val_accuracy: 0.8905\n",
            "Epoch 35/100\n",
            "1688/1688 [==============================] - 7s 4ms/step - loss: 0.3668 - accuracy: 0.8681 - val_loss: 0.2882 - val_accuracy: 0.8935\n",
            "Epoch 36/100\n",
            "1688/1688 [==============================] - 7s 4ms/step - loss: 0.3621 - accuracy: 0.8703 - val_loss: 0.2977 - val_accuracy: 0.8935\n",
            "Epoch 37/100\n",
            "1688/1688 [==============================] - 7s 4ms/step - loss: 0.3641 - accuracy: 0.8699 - val_loss: 0.2839 - val_accuracy: 0.8955\n",
            "Epoch 38/100\n",
            "1688/1688 [==============================] - 7s 4ms/step - loss: 0.3600 - accuracy: 0.8704 - val_loss: 0.2861 - val_accuracy: 0.8890\n",
            "Epoch 39/100\n",
            "1688/1688 [==============================] - 7s 4ms/step - loss: 0.3573 - accuracy: 0.8723 - val_loss: 0.2821 - val_accuracy: 0.8962\n",
            "Epoch 40/100\n",
            "1688/1688 [==============================] - 7s 4ms/step - loss: 0.3557 - accuracy: 0.8703 - val_loss: 0.2794 - val_accuracy: 0.8912\n",
            "Epoch 41/100\n",
            "1688/1688 [==============================] - 7s 4ms/step - loss: 0.3525 - accuracy: 0.8736 - val_loss: 0.2859 - val_accuracy: 0.8900\n",
            "Epoch 42/100\n",
            "1688/1688 [==============================] - 7s 4ms/step - loss: 0.3477 - accuracy: 0.8759 - val_loss: 0.2797 - val_accuracy: 0.8992\n",
            "Epoch 43/100\n",
            "1688/1688 [==============================] - 7s 4ms/step - loss: 0.3466 - accuracy: 0.8756 - val_loss: 0.2815 - val_accuracy: 0.8972\n",
            "Epoch 44/100\n",
            "1688/1688 [==============================] - 7s 4ms/step - loss: 0.3461 - accuracy: 0.8765 - val_loss: 0.2845 - val_accuracy: 0.8915\n",
            "Epoch 45/100\n",
            "1688/1688 [==============================] - 7s 4ms/step - loss: 0.3444 - accuracy: 0.8762 - val_loss: 0.2779 - val_accuracy: 0.8945\n",
            "Epoch 46/100\n",
            "1688/1688 [==============================] - 7s 4ms/step - loss: 0.3419 - accuracy: 0.8770 - val_loss: 0.2722 - val_accuracy: 0.8958\n",
            "Epoch 47/100\n",
            "1688/1688 [==============================] - 7s 4ms/step - loss: 0.3432 - accuracy: 0.8762 - val_loss: 0.2708 - val_accuracy: 0.8978\n",
            "Epoch 48/100\n",
            "1688/1688 [==============================] - 7s 4ms/step - loss: 0.3404 - accuracy: 0.8786 - val_loss: 0.2700 - val_accuracy: 0.9010\n",
            "Epoch 49/100\n",
            "1688/1688 [==============================] - 7s 4ms/step - loss: 0.3396 - accuracy: 0.8768 - val_loss: 0.2684 - val_accuracy: 0.8997\n",
            "Epoch 50/100\n",
            "1688/1688 [==============================] - 7s 4ms/step - loss: 0.3358 - accuracy: 0.8787 - val_loss: 0.2723 - val_accuracy: 0.8970\n",
            "Epoch 51/100\n",
            "1688/1688 [==============================] - 7s 4ms/step - loss: 0.3350 - accuracy: 0.8785 - val_loss: 0.2685 - val_accuracy: 0.9017\n",
            "Epoch 52/100\n",
            "1688/1688 [==============================] - 7s 4ms/step - loss: 0.3351 - accuracy: 0.8788 - val_loss: 0.2708 - val_accuracy: 0.8977\n",
            "Epoch 53/100\n",
            "1688/1688 [==============================] - 7s 4ms/step - loss: 0.3320 - accuracy: 0.8799 - val_loss: 0.2695 - val_accuracy: 0.8998\n",
            "Epoch 54/100\n",
            "1688/1688 [==============================] - 7s 4ms/step - loss: 0.3324 - accuracy: 0.8800 - val_loss: 0.2618 - val_accuracy: 0.9022\n",
            "Epoch 55/100\n",
            "1688/1688 [==============================] - 7s 4ms/step - loss: 0.3322 - accuracy: 0.8799 - val_loss: 0.2639 - val_accuracy: 0.9017\n",
            "Epoch 56/100\n",
            "1688/1688 [==============================] - 7s 4ms/step - loss: 0.3279 - accuracy: 0.8820 - val_loss: 0.2709 - val_accuracy: 0.8977\n",
            "Epoch 57/100\n",
            "1688/1688 [==============================] - 7s 4ms/step - loss: 0.3278 - accuracy: 0.8822 - val_loss: 0.2610 - val_accuracy: 0.9002\n",
            "Epoch 58/100\n",
            "1688/1688 [==============================] - 7s 4ms/step - loss: 0.3255 - accuracy: 0.8831 - val_loss: 0.2614 - val_accuracy: 0.9003\n",
            "Epoch 59/100\n",
            "1688/1688 [==============================] - 7s 4ms/step - loss: 0.3246 - accuracy: 0.8829 - val_loss: 0.2659 - val_accuracy: 0.9005\n",
            "Epoch 60/100\n",
            "1688/1688 [==============================] - 7s 4ms/step - loss: 0.3270 - accuracy: 0.8813 - val_loss: 0.2709 - val_accuracy: 0.9017\n",
            "Epoch 61/100\n",
            "1688/1688 [==============================] - 7s 4ms/step - loss: 0.3211 - accuracy: 0.8829 - val_loss: 0.2605 - val_accuracy: 0.9033\n",
            "Epoch 62/100\n",
            "1688/1688 [==============================] - 7s 4ms/step - loss: 0.3214 - accuracy: 0.8846 - val_loss: 0.2576 - val_accuracy: 0.9055\n",
            "Epoch 63/100\n",
            "1688/1688 [==============================] - 7s 4ms/step - loss: 0.3205 - accuracy: 0.8844 - val_loss: 0.2563 - val_accuracy: 0.9053\n",
            "Epoch 64/100\n",
            "1688/1688 [==============================] - 7s 4ms/step - loss: 0.3204 - accuracy: 0.8849 - val_loss: 0.2727 - val_accuracy: 0.9010\n",
            "Epoch 65/100\n",
            "1688/1688 [==============================] - 7s 4ms/step - loss: 0.3170 - accuracy: 0.8849 - val_loss: 0.2543 - val_accuracy: 0.9078\n",
            "Epoch 66/100\n",
            "1688/1688 [==============================] - 7s 4ms/step - loss: 0.3149 - accuracy: 0.8859 - val_loss: 0.2548 - val_accuracy: 0.9052\n",
            "Epoch 67/100\n",
            "1688/1688 [==============================] - 7s 4ms/step - loss: 0.3154 - accuracy: 0.8850 - val_loss: 0.2544 - val_accuracy: 0.9070\n",
            "Epoch 68/100\n",
            "1688/1688 [==============================] - 7s 4ms/step - loss: 0.3165 - accuracy: 0.8861 - val_loss: 0.2540 - val_accuracy: 0.9082\n",
            "Epoch 69/100\n",
            "1688/1688 [==============================] - 7s 4ms/step - loss: 0.3134 - accuracy: 0.8864 - val_loss: 0.2519 - val_accuracy: 0.9063\n",
            "Epoch 70/100\n",
            "1688/1688 [==============================] - 7s 4ms/step - loss: 0.3131 - accuracy: 0.8871 - val_loss: 0.2639 - val_accuracy: 0.9005\n",
            "Epoch 71/100\n",
            "1688/1688 [==============================] - 7s 4ms/step - loss: 0.3145 - accuracy: 0.8866 - val_loss: 0.2537 - val_accuracy: 0.9043\n",
            "Epoch 72/100\n",
            "1688/1688 [==============================] - 7s 4ms/step - loss: 0.3093 - accuracy: 0.8892 - val_loss: 0.2793 - val_accuracy: 0.8928\n",
            "Epoch 73/100\n",
            "1688/1688 [==============================] - 7s 4ms/step - loss: 0.3112 - accuracy: 0.8873 - val_loss: 0.2464 - val_accuracy: 0.9077\n",
            "Epoch 74/100\n",
            "1688/1688 [==============================] - 7s 4ms/step - loss: 0.3071 - accuracy: 0.8894 - val_loss: 0.2462 - val_accuracy: 0.9077\n",
            "Epoch 75/100\n",
            "1688/1688 [==============================] - 7s 4ms/step - loss: 0.3063 - accuracy: 0.8888 - val_loss: 0.2504 - val_accuracy: 0.9053\n",
            "Epoch 76/100\n",
            "1688/1688 [==============================] - 7s 4ms/step - loss: 0.3077 - accuracy: 0.8894 - val_loss: 0.2524 - val_accuracy: 0.9072\n",
            "Epoch 77/100\n",
            "1688/1688 [==============================] - 7s 4ms/step - loss: 0.3060 - accuracy: 0.8899 - val_loss: 0.2445 - val_accuracy: 0.9085\n",
            "Epoch 78/100\n",
            "1688/1688 [==============================] - 7s 4ms/step - loss: 0.3037 - accuracy: 0.8905 - val_loss: 0.2462 - val_accuracy: 0.9093\n",
            "Epoch 79/100\n",
            "1688/1688 [==============================] - 7s 4ms/step - loss: 0.3033 - accuracy: 0.8900 - val_loss: 0.2436 - val_accuracy: 0.9122\n",
            "Epoch 80/100\n",
            "1688/1688 [==============================] - 7s 4ms/step - loss: 0.3033 - accuracy: 0.8909 - val_loss: 0.2531 - val_accuracy: 0.9033\n",
            "Epoch 81/100\n",
            "1688/1688 [==============================] - 7s 4ms/step - loss: 0.3012 - accuracy: 0.8908 - val_loss: 0.2484 - val_accuracy: 0.9070\n",
            "Epoch 82/100\n",
            "1688/1688 [==============================] - 7s 4ms/step - loss: 0.3011 - accuracy: 0.8911 - val_loss: 0.2465 - val_accuracy: 0.9073\n",
            "Epoch 83/100\n",
            "1688/1688 [==============================] - 7s 4ms/step - loss: 0.3006 - accuracy: 0.8916 - val_loss: 0.2452 - val_accuracy: 0.9057\n",
            "Epoch 84/100\n",
            "1688/1688 [==============================] - 7s 4ms/step - loss: 0.2981 - accuracy: 0.8920 - val_loss: 0.2501 - val_accuracy: 0.9060\n",
            "Epoch 85/100\n",
            "1688/1688 [==============================] - 7s 4ms/step - loss: 0.2995 - accuracy: 0.8914 - val_loss: 0.2434 - val_accuracy: 0.9087\n",
            "Epoch 86/100\n",
            "1688/1688 [==============================] - 7s 4ms/step - loss: 0.2988 - accuracy: 0.8923 - val_loss: 0.2459 - val_accuracy: 0.9085\n",
            "Epoch 87/100\n",
            "1688/1688 [==============================] - 7s 4ms/step - loss: 0.2971 - accuracy: 0.8927 - val_loss: 0.2399 - val_accuracy: 0.9118\n",
            "Epoch 88/100\n",
            "1688/1688 [==============================] - 7s 4ms/step - loss: 0.2969 - accuracy: 0.8931 - val_loss: 0.2395 - val_accuracy: 0.9122\n",
            "Epoch 89/100\n",
            "1681/1688 [============================>.] - ETA: 0s - loss: 0.3003 - accuracy: 0.8925Restoring model weights from the end of the best epoch: 79.\n",
            "1688/1688 [==============================] - 7s 4ms/step - loss: 0.3003 - accuracy: 0.8926 - val_loss: 0.2432 - val_accuracy: 0.9080\n",
            "Epoch 89: early stopping\n"
          ]
        }
      ],
      "source": [
        "early_stopping = EarlyStopping(monitor='val_accuracy', patience=10, verbose=1, restore_best_weights=True)\n",
        "best_hps_CNNSGD=tuner_CNNSGD.get_best_hyperparameters()[0]\n",
        "\n",
        "cnnmodelSGD = tuner_CNNSGD.hypermodel.build(best_hps_CNNSGD)\n",
        "\n",
        "hs_cnn_modelSGD = cnnmodelSGD.fit(X_train, Y_train, epochs=epochs, validation_split=0.1, callbacks=[early_stopping])"
      ]
    },
    {
      "cell_type": "code",
      "execution_count": null,
      "metadata": {
        "colab": {
          "base_uri": "https://localhost:8080/",
          "height": 417
        },
        "id": "ikIt2aT86_0r",
        "outputId": "21b5589f-9743-4d48-d6f6-9b10aec3167b"
      },
      "outputs": [
        {
          "name": "stdout",
          "output_type": "stream",
          "text": [
            "Train accuracy: 0.9223\n",
            "Test accuracy: 0.9104\n",
            "\n"
          ]
        },
        {
          "data": {
            "image/png": "[encoded data removed]",
            "text/plain": [
              "<Figure size 576x360 with 1 Axes>"
            ]
          },
          "metadata": {},
          "output_type": "display_data"
        }
      ],
      "source": [
        "plot_history(hs_cnn_modelSGD, cnnmodelSGD, X_train, Y_train, X_test, Y_test)"
      ]
    },
    {
      "cell_type": "code",
      "execution_count": null,
      "metadata": {
        "colab": {
          "base_uri": "https://localhost:8080/"
        },
        "id": "5AXb9nmjlX4Q",
        "outputId": "9e602479-6f9b-4088-eeca-4aaba385bbaa"
      },
      "outputs": [
        {
          "name": "stdout",
          "output_type": "stream",
          "text": [
            "Model: \"sequential_1\"\n",
            "_________________________________________________________________\n",
            " Layer (type)                Output Shape              Param #   \n",
            "=================================================================\n",
            " flatten_1 (Flatten)         (None, 784)               0         \n",
            "                                                                 \n",
            " dense_3 (Dense)             (None, 512)               401920    \n",
            "                                                                 \n",
            " dropout_2 (Dropout)         (None, 512)               0         \n",
            "                                                                 \n",
            " dense_4 (Dense)             (None, 256)               131328    \n",
            "                                                                 \n",
            " dropout_3 (Dropout)         (None, 256)               0         \n",
            "                                                                 \n",
            " dense_5 (Dense)             (None, 512)               131584    \n",
            "                                                                 \n",
            " dropout_4 (Dropout)         (None, 512)               0         \n",
            "                                                                 \n",
            " dense_6 (Dense)             (None, 512)               262656    \n",
            "                                                                 \n",
            " dropout_5 (Dropout)         (None, 512)               0         \n",
            "                                                                 \n",
            " dense_7 (Dense)             (None, 256)               131328    \n",
            "                                                                 \n",
            " dropout_6 (Dropout)         (None, 256)               0         \n",
            "                                                                 \n",
            " dense_8 (Dense)             (None, 10)                2570      \n",
            "                                                                 \n",
            "=================================================================\n",
            "Total params: 1,061,386\n",
            "Trainable params: 1,061,386\n",
            "Non-trainable params: 0\n",
            "_________________________________________________________________\n"
          ]
        }
      ],
      "source": [
        "h_modelSGD.summary()"
      ]
    },
    {
      "cell_type": "code",
      "execution_count": null,
      "metadata": {
        "colab": {
          "base_uri": "https://localhost:8080/"
        },
        "id": "JInS06ylleqW",
        "outputId": "96f1995a-48b5-43c1-e8ed-a2da453603fe"
      },
      "outputs": [
        {
          "name": "stdout",
          "output_type": "stream",
          "text": [
            "Model: \"sequential_1\"\n",
            "_________________________________________________________________\n",
            " Layer (type)                Output Shape              Param #   \n",
            "=================================================================\n",
            " conv2d_3 (Conv2D)           (None, 26, 26, 96)        960       \n",
            "                                                                 \n",
            " MaxPool2D1 (MaxPooling2D)   (None, 13, 13, 96)        0         \n",
            "                                                                 \n",
            " Dropout1 (Dropout)          (None, 13, 13, 96)        0         \n",
            "                                                                 \n",
            " conv2d_4 (Conv2D)           (None, 9, 9, 64)          153664    \n",
            "                                                                 \n",
            " MaxPool2D2 (MaxPooling2D)   (None, 5, 5, 64)          0         \n",
            "                                                                 \n",
            " Dropout2 (Dropout)          (None, 5, 5, 64)          0         \n",
            "                                                                 \n",
            " conv2d_5 (Conv2D)           (None, 3, 3, 64)          36928     \n",
            "                                                                 \n",
            " MaxPool2D3 (MaxPooling2D)   (None, 2, 2, 64)          0         \n",
            "                                                                 \n",
            " Dropout3 (Dropout)          (None, 2, 2, 64)          0         \n",
            "                                                                 \n",
            " flatten_1 (Flatten)         (None, 256)               0         \n",
            "                                                                 \n",
            " dense_2 (Dense)             (None, 64)                16448     \n",
            "                                                                 \n",
            " dense_3 (Dense)             (None, 10)                650       \n",
            "                                                                 \n",
            "=================================================================\n",
            "Total params: 208,650\n",
            "Trainable params: 208,650\n",
            "Non-trainable params: 0\n",
            "_________________________________________________________________\n"
          ]
        }
      ],
      "source": [
        "cnnmodel.summary()"
      ]
    },
    {
      "cell_type": "code",
      "execution_count": null,
      "metadata": {
        "colab": {
          "base_uri": "https://localhost:8080/"
        },
        "id": "tzbHcIlXlesu",
        "outputId": "81a5fb49-6806-46df-8658-6eb4363f1644"
      },
      "outputs": [
        {
          "name": "stdout",
          "output_type": "stream",
          "text": [
            "Model: \"sequential_1\"\n",
            "_________________________________________________________________\n",
            " Layer (type)                Output Shape              Param #   \n",
            "=================================================================\n",
            " flatten_1 (Flatten)         (None, 784)               0         \n",
            "                                                                 \n",
            " dense_6 (Dense)             (None, 512)               401920    \n",
            "                                                                 \n",
            " dropout_5 (Dropout)         (None, 512)               0         \n",
            "                                                                 \n",
            " dense_7 (Dense)             (None, 384)               196992    \n",
            "                                                                 \n",
            " dropout_6 (Dropout)         (None, 384)               0         \n",
            "                                                                 \n",
            " dense_8 (Dense)             (None, 384)               147840    \n",
            "                                                                 \n",
            " dropout_7 (Dropout)         (None, 384)               0         \n",
            "                                                                 \n",
            " dense_9 (Dense)             (None, 256)               98560     \n",
            "                                                                 \n",
            " dropout_8 (Dropout)         (None, 256)               0         \n",
            "                                                                 \n",
            " dense_10 (Dense)            (None, 256)               65792     \n",
            "                                                                 \n",
            " dropout_9 (Dropout)         (None, 256)               0         \n",
            "                                                                 \n",
            " dense_11 (Dense)            (None, 10)                2570      \n",
            "                                                                 \n",
            "=================================================================\n",
            "Total params: 913,674\n",
            "Trainable params: 913,674\n",
            "Non-trainable params: 0\n",
            "_________________________________________________________________\n"
          ]
        }
      ],
      "source": [
        "h_model.summary()"
      ]
    },
    {
      "cell_type": "code",
      "execution_count": null,
      "metadata": {
        "colab": {
          "base_uri": "https://localhost:8080/"
        },
        "id": "CubTWBq_lfiG",
        "outputId": "98094ce9-13a4-47b6-f820-ecfabe730a4c"
      },
      "outputs": [
        {
          "name": "stdout",
          "output_type": "stream",
          "text": [
            "Model: \"sequential_1\"\n",
            "_________________________________________________________________\n",
            " Layer (type)                Output Shape              Param #   \n",
            "=================================================================\n",
            " flatten_1 (Flatten)         (None, 784)               0         \n",
            "                                                                 \n",
            " dense_6 (Dense)             (None, 384)               301440    \n",
            "                                                                 \n",
            " dropout_5 (Dropout)         (None, 384)               0         \n",
            "                                                                 \n",
            " dense_7 (Dense)             (None, 256)               98560     \n",
            "                                                                 \n",
            " dropout_6 (Dropout)         (None, 256)               0         \n",
            "                                                                 \n",
            " dense_8 (Dense)             (None, 384)               98688     \n",
            "                                                                 \n",
            " dropout_7 (Dropout)         (None, 384)               0         \n",
            "                                                                 \n",
            " dense_9 (Dense)             (None, 256)               98560     \n",
            "                                                                 \n",
            " dropout_8 (Dropout)         (None, 256)               0         \n",
            "                                                                 \n",
            " dense_10 (Dense)            (None, 512)               131584    \n",
            "                                                                 \n",
            " dropout_9 (Dropout)         (None, 512)               0         \n",
            "                                                                 \n",
            " dense_11 (Dense)            (None, 10)                5130      \n",
            "                                                                 \n",
            "=================================================================\n",
            "Total params: 733,962\n",
            "Trainable params: 733,962\n",
            "Non-trainable params: 0\n",
            "_________________________________________________________________\n"
          ]
        }
      ],
      "source": [
        "h_model_hyper.summary()"
      ]
    },
    {
      "cell_type": "code",
      "execution_count": null,
      "metadata": {
        "id": "dYfbNuvC2HXI"
      },
      "outputs": [],
      "source": [
        "tuner_hyperbandCNN = kt.Hyperband(build_model_CNN,\n",
        "                     objective=\"val_accuracy\",\n",
        "                     max_epochs=20,\n",
        "                     overwrite=True,\n",
        "                     directory=\"kt_dir\",\n",
        "                     project_name=\"kt_hyperband\")"
      ]
    },
    {
      "cell_type": "code",
      "execution_count": null,
      "metadata": {
        "colab": {
          "base_uri": "https://localhost:8080/"
        },
        "id": "5lqAa5q92HZf",
        "outputId": "a86ab847-cf64-4c2d-91fa-e6bf352d4816"
      },
      "outputs": [
        {
          "name": "stdout",
          "output_type": "stream",
          "text": [
            "Trial 29 Complete [00h 01m 03s]\n",
            "val_accuracy: 0.7741666436195374\n",
            "\n",
            "Best val_accuracy So Far: 0.8913333415985107\n",
            "Total elapsed time: 00h 30m 55s\n",
            "\n",
            "Search: Running Trial #30\n",
            "\n",
            "Value             |Best Value So Far |Hyperparameter\n",
            "64                |64                |conv_1_filter\n",
            "4                 |4                 |conv_1_kernel\n",
            "64                |32                |conv_2_filter\n",
            "4                 |4                 |conv_2_kernel\n",
            "64                |64                |conv_3_filter\n",
            "4                 |5                 |conv_3_kernel\n",
            "96                |32                |dense_1_units\n",
            "0.0001            |0.0001            |learning_rate\n",
            "20                |20                |tuner/epochs\n",
            "0                 |0                 |tuner/initial_epoch\n",
            "0                 |0                 |tuner/bracket\n",
            "0                 |0                 |tuner/round\n",
            "\n",
            "Epoch 1/20\n",
            "1688/1688 [==============================] - 9s 5ms/step - loss: 1.2105 - accuracy: 0.5512 - val_loss: 0.6935 - val_accuracy: 0.7443\n",
            "Epoch 2/20\n",
            "1688/1688 [==============================] - 8s 5ms/step - loss: 0.7748 - accuracy: 0.7097 - val_loss: 0.5896 - val_accuracy: 0.7710\n",
            "Epoch 3/20\n",
            "1688/1688 [==============================] - 8s 4ms/step - loss: 0.6869 - accuracy: 0.7409 - val_loss: 0.5387 - val_accuracy: 0.7883\n",
            "Epoch 4/20\n",
            "1688/1688 [==============================] - 8s 4ms/step - loss: 0.6370 - accuracy: 0.7602 - val_loss: 0.5149 - val_accuracy: 0.8037\n",
            "Epoch 5/20\n",
            "1688/1688 [==============================] - 8s 5ms/step - loss: 0.5985 - accuracy: 0.7767 - val_loss: 0.4753 - val_accuracy: 0.8207\n",
            "Epoch 6/20\n",
            "1688/1688 [==============================] - 8s 5ms/step - loss: 0.5681 - accuracy: 0.7891 - val_loss: 0.4569 - val_accuracy: 0.8330\n",
            "Epoch 7/20\n",
            "1688/1688 [==============================] - 7s 4ms/step - loss: 0.5411 - accuracy: 0.8008 - val_loss: 0.4384 - val_accuracy: 0.8405\n",
            "Epoch 8/20\n",
            "1688/1688 [==============================] - 8s 5ms/step - loss: 0.5146 - accuracy: 0.8129 - val_loss: 0.4104 - val_accuracy: 0.8505\n",
            "Epoch 9/20\n",
            "1688/1688 [==============================] - 8s 4ms/step - loss: 0.4970 - accuracy: 0.8206 - val_loss: 0.3909 - val_accuracy: 0.8575\n",
            "Epoch 10/20\n",
            "1688/1688 [==============================] - 8s 5ms/step - loss: 0.4776 - accuracy: 0.8301 - val_loss: 0.3803 - val_accuracy: 0.8613\n",
            "Epoch 11/20\n",
            "1688/1688 [==============================] - 8s 5ms/step - loss: 0.4639 - accuracy: 0.8338 - val_loss: 0.3636 - val_accuracy: 0.8685\n",
            "Epoch 12/20\n",
            "1688/1688 [==============================] - 8s 5ms/step - loss: 0.4480 - accuracy: 0.8399 - val_loss: 0.3506 - val_accuracy: 0.8737\n",
            "Epoch 13/20\n",
            "1688/1688 [==============================] - 8s 4ms/step - loss: 0.4380 - accuracy: 0.8453 - val_loss: 0.3444 - val_accuracy: 0.8742\n",
            "Epoch 14/20\n",
            "1688/1688 [==============================] - 8s 4ms/step - loss: 0.4252 - accuracy: 0.8494 - val_loss: 0.3366 - val_accuracy: 0.8792\n",
            "Epoch 15/20\n",
            "1688/1688 [==============================] - 8s 5ms/step - loss: 0.4140 - accuracy: 0.8513 - val_loss: 0.3332 - val_accuracy: 0.8787\n",
            "Epoch 16/20\n",
            "1688/1688 [==============================] - 8s 5ms/step - loss: 0.4090 - accuracy: 0.8545 - val_loss: 0.3243 - val_accuracy: 0.8830\n",
            "Epoch 17/20\n",
            "1688/1688 [==============================] - 8s 5ms/step - loss: 0.3969 - accuracy: 0.8598 - val_loss: 0.3357 - val_accuracy: 0.8803\n",
            "Epoch 18/20\n",
            "1005/1688 [================>.............] - ETA: 2s - loss: 0.3874 - accuracy: 0.8633"
          ]
        }
      ],
      "source": [
        "early_stopping = EarlyStopping(monitor='val_accuracy', patience=5, restore_best_weights=True)\n",
        "\n",
        "tuner_hyperbandCNN.search(X_train, Y_train, epochs=40, validation_split=0.1, callbacks=[early_stopping])"
      ]
    }
  ],
  "metadata": {
    "accelerator": "GPU",
    "colab": {
      "provenance": []
    },
    "kernelspec": {
      "display_name": "Python 3",
      "name": "python3"
    },
    "language_info": {
      "name": "python"
    }
  },
  "nbformat": 4,
  "nbformat_minor": 0
}